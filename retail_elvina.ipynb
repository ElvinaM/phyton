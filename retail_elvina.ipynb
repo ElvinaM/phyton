{
  "nbformat": 4,
  "nbformat_minor": 0,
  "metadata": {
    "colab": {
      "name": "Untitled0.ipynb",
      "provenance": [],
      "collapsed_sections": []
    },
    "kernelspec": {
      "name": "python3",
      "display_name": "Python 3"
    }
  },
  "cells": [
    {
      "cell_type": "markdown",
      "metadata": {
        "id": "fR4DWMa1HkmR",
        "colab_type": "text"
      },
      "source": [
        "Презентация на Я.Диске:https://yadi.sk/d/cA9bnj-G2nXFuw\n"
      ]
    },
    {
      "cell_type": "markdown",
      "metadata": {
        "id": "QO_2ETStBtPP",
        "colab_type": "text"
      },
      "source": [
        "#Ритейл — Оценка эффективности торговых точек"
      ]
    },
    {
      "cell_type": "markdown",
      "metadata": {
        "id": "nQHSgY7MCwLV",
        "colab_type": "text"
      },
      "source": [
        "1. [Описание проекта](#1)\n",
        "\n",
        "   - Задача проекта \n",
        "   - Кто проверяет результат\n",
        "   - Как будут использоваться полученные данные\n",
        "   - Описание данных\n",
        "\n",
        "\n",
        "\n",
        "2. [Предобработка](#2)    \n",
        "\n",
        "    - Удаление дубликатов\n",
        "    - Приведение колонок к нижнему регистру\n",
        "    - Исследовать и заменить пропущенные значения\n",
        "    - Исследовать и привести типы данных\n",
        "\n",
        "\n",
        "\n",
        "3. [Исследовательский анализ](#3)\n",
        "\n",
        "    - Исследовать датафрейм с ценами, заменить цены на медианное значение\n",
        "    - Исследовать аномальное количество покупок и аномальные стоимости\n",
        "    - Объединить датафреймы\n",
        "    - Проверить временной период данных\n",
        "    - Диаграмма количества покупок\n",
        "    - Диаграмма количества покупателей\n",
        "  \n",
        "\n",
        "4. [Анализ бизнес-показателей](#4)\n",
        "  \n",
        "    - Посчитать средний чек, среднее количество товаров в чеке, количество покупателей в каждой точке\n",
        "    - Посчитать выручку по торговым точкам\n",
        "    - Найти наиболее продаваемые товары\n",
        "    - Определить категории товаров, приносящих большую прибыль\n",
        "    - Визуализировать метрики\n",
        "\n",
        "5. [Статистический анализ](#5)\n",
        "\n",
        "    - Выдвинуть гипотезы на основе исследовательского анализа\n",
        "\n",
        "\n",
        "6. [Выводы](#6)"
      ]
    },
    {
      "cell_type": "markdown",
      "metadata": {
        "id": "33wNBpbeE9ix",
        "colab_type": "text"
      },
      "source": [
        "#Описание проекта <p id = \"1\"> </p>"
      ]
    },
    {
      "cell_type": "markdown",
      "metadata": {
        "id": "NkGuoCh1Ew8S",
        "colab_type": "text"
      },
      "source": [
        "#Задача"
      ]
    },
    {
      "cell_type": "markdown",
      "metadata": {
        "id": "2vOlUAqtCCwJ",
        "colab_type": "text"
      },
      "source": [
        "- Задача: оценить влияние программы лояльности на общую выручку по всем торговым точкам\n",
        "- Данные по проекту предоставляютя ответственным менеджерам за проведение программы лояльности покупателей и за оценку эффективности торговых точек"
      ]
    },
    {
      "cell_type": "markdown",
      "metadata": {
        "id": "EeWo_vfwCPLZ",
        "colab_type": "text"
      },
      "source": [
        "### Описание данных:\n",
        "\n",
        "Датасет содержит данные о покупках в магазине строительных материалов «Строили, строили и наконец построили». Все покупатели могут получить доступ в магазин с использованием персональных карт. За 200 рублей в месяц они могут стать участниками программы лояльности. В программу включены скидки, специальные предложения, подарки.\n",
        "\n",
        "Файл retail_dataset.csv:\n",
        "\n",
        "- `purchaseId` — id чека;\n",
        "- `item_ID` — id товара;\n",
        "- `purchasedate` — дата покупки;\n",
        "- `Quantity` — количество товара;\n",
        "- `CustomerID` — id покупателя;\n",
        "- `ShopID` — id магазина;\n",
        "- `loyalty_program` — участвует ли покупатель в программе лояльности;\n",
        "\n",
        "Файл product_codes.csv:\n",
        "\n",
        "- `productID` — id товара;\n",
        "- `price_per_one` — стоимость одной единицы товара;"
      ]
    },
    {
      "cell_type": "markdown",
      "metadata": {
        "id": "2JD7eUJyHcsJ",
        "colab_type": "text"
      },
      "source": [
        "Данные на Я.Диске: https://yadi.sk/d/cA9bnj-G2nXFuw"
      ]
    },
    {
      "cell_type": "markdown",
      "metadata": {
        "id": "gxa8OKRNF-UO",
        "colab_type": "text"
      },
      "source": [
        "#Предобработка данных <p id = \"2\"> </p>"
      ]
    },
    {
      "cell_type": "code",
      "metadata": {
        "id": "uWfCF2udPx5k",
        "colab_type": "code",
        "colab": {
          "base_uri": "https://localhost:8080/",
          "height": 87
        },
        "outputId": "04f93d9c-dfd3-43e4-a355-424ef3edab40"
      },
      "source": [
        "#импорт библиотек\n",
        "%matplotlib inline\n",
        "import pandas as pd\n",
        "import matplotlib.pyplot as plt\n",
        "from plotly import graph_objects as go\n",
        "import seaborn as sns\n",
        "from scipy import stats as st\n"
      ],
      "execution_count": 1,
      "outputs": [
        {
          "output_type": "stream",
          "text": [
            "/usr/local/lib/python3.6/dist-packages/statsmodels/tools/_testing.py:19: FutureWarning:\n",
            "\n",
            "pandas.util.testing is deprecated. Use the functions in the public API at pandas.testing instead.\n",
            "\n"
          ],
          "name": "stderr"
        }
      ]
    },
    {
      "cell_type": "code",
      "metadata": {
        "id": "a1A1HkXz0pMU",
        "colab_type": "code",
        "colab": {}
      },
      "source": [
        "#импорт файлов\n",
        "#from google.colab import files\n",
        "#uploaded = files.upload()\n",
        "#for fn in uploaded.keys():\n",
        "  #print('User uploaded file \"{name}\" with length {length} bytes'. format(name = fn, length = len(uploaded[fn])))\n"
      ],
      "execution_count": 2,
      "outputs": []
    },
    {
      "cell_type": "code",
      "metadata": {
        "id": "7weVGF7Z2Am1",
        "colab_type": "code",
        "colab": {
          "base_uri": "https://localhost:8080/",
          "height": 446
        },
        "outputId": "a22ba958-e181-43c9-f321-b4727a3d7d0e"
      },
      "source": [
        "#чтение файла retail_dataset\n",
        "df = pd.read_csv(\"retail_dataset.csv\")\n",
        "df.info()\n",
        "df.head()"
      ],
      "execution_count": 3,
      "outputs": [
        {
          "output_type": "stream",
          "text": [
            "<class 'pandas.core.frame.DataFrame'>\n",
            "RangeIndex: 105335 entries, 0 to 105334\n",
            "Data columns (total 7 columns):\n",
            " #   Column           Non-Null Count   Dtype  \n",
            "---  ------           --------------   -----  \n",
            " 0   purchaseid       105335 non-null  object \n",
            " 1   item_ID          105335 non-null  object \n",
            " 2   Quantity         105335 non-null  int64  \n",
            " 3   purchasedate     105335 non-null  object \n",
            " 4   CustomerID       69125 non-null   float64\n",
            " 5   ShopID           105335 non-null  object \n",
            " 6   loyalty_program  105335 non-null  float64\n",
            "dtypes: float64(2), int64(1), object(4)\n",
            "memory usage: 5.6+ MB\n"
          ],
          "name": "stdout"
        },
        {
          "output_type": "execute_result",
          "data": {
            "text/html": [
              "<div>\n",
              "<style scoped>\n",
              "    .dataframe tbody tr th:only-of-type {\n",
              "        vertical-align: middle;\n",
              "    }\n",
              "\n",
              "    .dataframe tbody tr th {\n",
              "        vertical-align: top;\n",
              "    }\n",
              "\n",
              "    .dataframe thead th {\n",
              "        text-align: right;\n",
              "    }\n",
              "</style>\n",
              "<table border=\"1\" class=\"dataframe\">\n",
              "  <thead>\n",
              "    <tr style=\"text-align: right;\">\n",
              "      <th></th>\n",
              "      <th>purchaseid</th>\n",
              "      <th>item_ID</th>\n",
              "      <th>Quantity</th>\n",
              "      <th>purchasedate</th>\n",
              "      <th>CustomerID</th>\n",
              "      <th>ShopID</th>\n",
              "      <th>loyalty_program</th>\n",
              "    </tr>\n",
              "  </thead>\n",
              "  <tbody>\n",
              "    <tr>\n",
              "      <th>0</th>\n",
              "      <td>538280</td>\n",
              "      <td>21873</td>\n",
              "      <td>11</td>\n",
              "      <td>2016-12-10 12:50:00</td>\n",
              "      <td>18427.0</td>\n",
              "      <td>Shop 0</td>\n",
              "      <td>0.0</td>\n",
              "    </tr>\n",
              "    <tr>\n",
              "      <th>1</th>\n",
              "      <td>538862</td>\n",
              "      <td>22195</td>\n",
              "      <td>0</td>\n",
              "      <td>2016-12-14 14:11:00</td>\n",
              "      <td>22389.0</td>\n",
              "      <td>Shop 0</td>\n",
              "      <td>1.0</td>\n",
              "    </tr>\n",
              "    <tr>\n",
              "      <th>2</th>\n",
              "      <td>538855</td>\n",
              "      <td>21239</td>\n",
              "      <td>7</td>\n",
              "      <td>2016-12-14 13:50:00</td>\n",
              "      <td>22182.0</td>\n",
              "      <td>Shop 0</td>\n",
              "      <td>1.0</td>\n",
              "    </tr>\n",
              "    <tr>\n",
              "      <th>3</th>\n",
              "      <td>543543</td>\n",
              "      <td>22271</td>\n",
              "      <td>0</td>\n",
              "      <td>2017-02-09 15:33:00</td>\n",
              "      <td>23522.0</td>\n",
              "      <td>Shop 0</td>\n",
              "      <td>1.0</td>\n",
              "    </tr>\n",
              "    <tr>\n",
              "      <th>4</th>\n",
              "      <td>543812</td>\n",
              "      <td>79321</td>\n",
              "      <td>0</td>\n",
              "      <td>2017-02-13 14:40:00</td>\n",
              "      <td>23151.0</td>\n",
              "      <td>Shop 0</td>\n",
              "      <td>1.0</td>\n",
              "    </tr>\n",
              "  </tbody>\n",
              "</table>\n",
              "</div>"
            ],
            "text/plain": [
              "  purchaseid item_ID  Quantity  ... CustomerID  ShopID loyalty_program\n",
              "0     538280   21873        11  ...    18427.0  Shop 0             0.0\n",
              "1     538862   22195         0  ...    22389.0  Shop 0             1.0\n",
              "2     538855   21239         7  ...    22182.0  Shop 0             1.0\n",
              "3     543543   22271         0  ...    23522.0  Shop 0             1.0\n",
              "4     543812   79321         0  ...    23151.0  Shop 0             1.0\n",
              "\n",
              "[5 rows x 7 columns]"
            ]
          },
          "metadata": {
            "tags": []
          },
          "execution_count": 3
        }
      ]
    },
    {
      "cell_type": "code",
      "metadata": {
        "id": "U4N6ukup2gwG",
        "colab_type": "code",
        "colab": {}
      },
      "source": [
        "#перевод в нижний регистр\n",
        "df.columns = df.columns.str.lower()"
      ],
      "execution_count": 4,
      "outputs": []
    },
    {
      "cell_type": "code",
      "metadata": {
        "id": "017JD8YFIScj",
        "colab_type": "code",
        "colab": {
          "base_uri": "https://localhost:8080/",
          "height": 357
        },
        "outputId": "57c0c7cb-3aa4-4742-9c36-b2527473e09d"
      },
      "source": [
        "#чтение файла product_codes\n",
        "code = pd.read_csv(\"product_codes.csv\")\n",
        "code.info()\n",
        "code.head()"
      ],
      "execution_count": 5,
      "outputs": [
        {
          "output_type": "stream",
          "text": [
            "<class 'pandas.core.frame.DataFrame'>\n",
            "RangeIndex: 9969 entries, 0 to 9968\n",
            "Data columns (total 2 columns):\n",
            " #   Column         Non-Null Count  Dtype  \n",
            "---  ------         --------------  -----  \n",
            " 0   productID      9969 non-null   object \n",
            " 1   price_per_one  9969 non-null   float64\n",
            "dtypes: float64(1), object(1)\n",
            "memory usage: 155.9+ KB\n"
          ],
          "name": "stdout"
        },
        {
          "output_type": "execute_result",
          "data": {
            "text/html": [
              "<div>\n",
              "<style scoped>\n",
              "    .dataframe tbody tr th:only-of-type {\n",
              "        vertical-align: middle;\n",
              "    }\n",
              "\n",
              "    .dataframe tbody tr th {\n",
              "        vertical-align: top;\n",
              "    }\n",
              "\n",
              "    .dataframe thead th {\n",
              "        text-align: right;\n",
              "    }\n",
              "</style>\n",
              "<table border=\"1\" class=\"dataframe\">\n",
              "  <thead>\n",
              "    <tr style=\"text-align: right;\">\n",
              "      <th></th>\n",
              "      <th>productID</th>\n",
              "      <th>price_per_one</th>\n",
              "    </tr>\n",
              "  </thead>\n",
              "  <tbody>\n",
              "    <tr>\n",
              "      <th>0</th>\n",
              "      <td>85123A</td>\n",
              "      <td>2.55</td>\n",
              "    </tr>\n",
              "    <tr>\n",
              "      <th>1</th>\n",
              "      <td>71053</td>\n",
              "      <td>3.39</td>\n",
              "    </tr>\n",
              "    <tr>\n",
              "      <th>2</th>\n",
              "      <td>84406B</td>\n",
              "      <td>2.75</td>\n",
              "    </tr>\n",
              "    <tr>\n",
              "      <th>3</th>\n",
              "      <td>84029G</td>\n",
              "      <td>3.39</td>\n",
              "    </tr>\n",
              "    <tr>\n",
              "      <th>4</th>\n",
              "      <td>84029E</td>\n",
              "      <td>3.39</td>\n",
              "    </tr>\n",
              "  </tbody>\n",
              "</table>\n",
              "</div>"
            ],
            "text/plain": [
              "  productID  price_per_one\n",
              "0    85123A           2.55\n",
              "1     71053           3.39\n",
              "2    84406B           2.75\n",
              "3    84029G           3.39\n",
              "4    84029E           3.39"
            ]
          },
          "metadata": {
            "tags": []
          },
          "execution_count": 5
        }
      ]
    },
    {
      "cell_type": "code",
      "metadata": {
        "id": "WNlHnUu2o8Ho",
        "colab_type": "code",
        "colab": {}
      },
      "source": [
        "#переименовали столбец\n",
        "code = code.rename(columns = {'productID' : 'item_id'})"
      ],
      "execution_count": 6,
      "outputs": []
    },
    {
      "cell_type": "code",
      "metadata": {
        "id": "K9d7-cHHp4rF",
        "colab_type": "code",
        "colab": {
          "base_uri": "https://localhost:8080/",
          "height": 406
        },
        "outputId": "affaa719-87b5-481d-d0a5-45273e80315a"
      },
      "source": [
        "#группировка по наименованиям\n",
        "#подсчет медианы, минимального, максимального\n",
        "code.groupby('item_id')['price_per_one'].\\\n",
        "agg(['median','min', 'max', 'std']).\\\n",
        "reset_index().\\\n",
        "query('std >0')"
      ],
      "execution_count": 7,
      "outputs": [
        {
          "output_type": "execute_result",
          "data": {
            "text/html": [
              "<div>\n",
              "<style scoped>\n",
              "    .dataframe tbody tr th:only-of-type {\n",
              "        vertical-align: middle;\n",
              "    }\n",
              "\n",
              "    .dataframe tbody tr th {\n",
              "        vertical-align: top;\n",
              "    }\n",
              "\n",
              "    .dataframe thead th {\n",
              "        text-align: right;\n",
              "    }\n",
              "</style>\n",
              "<table border=\"1\" class=\"dataframe\">\n",
              "  <thead>\n",
              "    <tr style=\"text-align: right;\">\n",
              "      <th></th>\n",
              "      <th>item_id</th>\n",
              "      <th>median</th>\n",
              "      <th>min</th>\n",
              "      <th>max</th>\n",
              "      <th>std</th>\n",
              "    </tr>\n",
              "  </thead>\n",
              "  <tbody>\n",
              "    <tr>\n",
              "      <th>0</th>\n",
              "      <td>10002</td>\n",
              "      <td>1.630</td>\n",
              "      <td>0.85</td>\n",
              "      <td>1.66</td>\n",
              "      <td>0.459239</td>\n",
              "    </tr>\n",
              "    <tr>\n",
              "      <th>6</th>\n",
              "      <td>10125</td>\n",
              "      <td>0.810</td>\n",
              "      <td>0.42</td>\n",
              "      <td>1.66</td>\n",
              "      <td>0.455664</td>\n",
              "    </tr>\n",
              "    <tr>\n",
              "      <th>7</th>\n",
              "      <td>10133</td>\n",
              "      <td>0.830</td>\n",
              "      <td>0.42</td>\n",
              "      <td>1.66</td>\n",
              "      <td>0.503455</td>\n",
              "    </tr>\n",
              "    <tr>\n",
              "      <th>8</th>\n",
              "      <td>10135</td>\n",
              "      <td>1.265</td>\n",
              "      <td>0.42</td>\n",
              "      <td>2.51</td>\n",
              "      <td>0.826140</td>\n",
              "    </tr>\n",
              "    <tr>\n",
              "      <th>9</th>\n",
              "      <td>11001</td>\n",
              "      <td>3.290</td>\n",
              "      <td>1.69</td>\n",
              "      <td>3.36</td>\n",
              "      <td>0.944616</td>\n",
              "    </tr>\n",
              "    <tr>\n",
              "      <th>...</th>\n",
              "      <td>...</td>\n",
              "      <td>...</td>\n",
              "      <td>...</td>\n",
              "      <td>...</td>\n",
              "      <td>...</td>\n",
              "    </tr>\n",
              "    <tr>\n",
              "      <th>3151</th>\n",
              "      <td>M</td>\n",
              "      <td>12.750</td>\n",
              "      <td>0.19</td>\n",
              "      <td>1715.85</td>\n",
              "      <td>442.133727</td>\n",
              "    </tr>\n",
              "    <tr>\n",
              "      <th>3152</th>\n",
              "      <td>POST</td>\n",
              "      <td>12.990</td>\n",
              "      <td>0.00</td>\n",
              "      <td>40.00</td>\n",
              "      <td>13.489963</td>\n",
              "    </tr>\n",
              "    <tr>\n",
              "      <th>3153</th>\n",
              "      <td>S</td>\n",
              "      <td>12.950</td>\n",
              "      <td>2.80</td>\n",
              "      <td>128.56</td>\n",
              "      <td>34.229488</td>\n",
              "    </tr>\n",
              "    <tr>\n",
              "      <th>3154</th>\n",
              "      <td>gift_0001_20</td>\n",
              "      <td>16.845</td>\n",
              "      <td>16.67</td>\n",
              "      <td>17.02</td>\n",
              "      <td>0.247487</td>\n",
              "    </tr>\n",
              "    <tr>\n",
              "      <th>3155</th>\n",
              "      <td>gift_0001_30</td>\n",
              "      <td>25.265</td>\n",
              "      <td>25.00</td>\n",
              "      <td>25.53</td>\n",
              "      <td>0.374767</td>\n",
              "    </tr>\n",
              "  </tbody>\n",
              "</table>\n",
              "<p>2494 rows × 5 columns</p>\n",
              "</div>"
            ],
            "text/plain": [
              "           item_id  median    min      max         std\n",
              "0            10002   1.630   0.85     1.66    0.459239\n",
              "6            10125   0.810   0.42     1.66    0.455664\n",
              "7            10133   0.830   0.42     1.66    0.503455\n",
              "8            10135   1.265   0.42     2.51    0.826140\n",
              "9            11001   3.290   1.69     3.36    0.944616\n",
              "...            ...     ...    ...      ...         ...\n",
              "3151             M  12.750   0.19  1715.85  442.133727\n",
              "3152          POST  12.990   0.00    40.00   13.489963\n",
              "3153             S  12.950   2.80   128.56   34.229488\n",
              "3154  gift_0001_20  16.845  16.67    17.02    0.247487\n",
              "3155  gift_0001_30  25.265  25.00    25.53    0.374767\n",
              "\n",
              "[2494 rows x 5 columns]"
            ]
          },
          "metadata": {
            "tags": []
          },
          "execution_count": 7
        }
      ]
    },
    {
      "cell_type": "markdown",
      "metadata": {
        "id": "sKavV_mkK3PL",
        "colab_type": "text"
      },
      "source": [
        "В файле товары-цены товары имеют разную стоимость"
      ]
    },
    {
      "cell_type": "markdown",
      "metadata": {
        "id": "ewrP2NP5yFG5",
        "colab_type": "text"
      },
      "source": [
        "Из 9969 строк 2494 с разными ценами на товар, заменим стоимость на медианное значение, так как медиана наименее чувствительна к выбросам"
      ]
    },
    {
      "cell_type": "code",
      "metadata": {
        "id": "KDq2O8og1Gqa",
        "colab_type": "code",
        "colab": {}
      },
      "source": [
        "code['price_per_one'] = code.groupby(['item_id']).price_per_one.apply(lambda x: x.fillna(x.median()))"
      ],
      "execution_count": 8,
      "outputs": []
    },
    {
      "cell_type": "code",
      "metadata": {
        "id": "lgqfA2U08YmC",
        "colab_type": "code",
        "colab": {}
      },
      "source": [
        "code_grouped = code.\\\n",
        "groupby('item_id')['price_per_one'].agg(['median']).\\\n",
        "reset_index()"
      ],
      "execution_count": 9,
      "outputs": []
    },
    {
      "cell_type": "code",
      "metadata": {
        "id": "Eolye0Yl8l09",
        "colab_type": "code",
        "colab": {
          "base_uri": "https://localhost:8080/",
          "height": 176
        },
        "outputId": "9595b67a-5dec-44ce-9db2-1eb5ca51a94b"
      },
      "source": [
        "code_grouped.info()"
      ],
      "execution_count": 10,
      "outputs": [
        {
          "output_type": "stream",
          "text": [
            "<class 'pandas.core.frame.DataFrame'>\n",
            "RangeIndex: 3159 entries, 0 to 3158\n",
            "Data columns (total 2 columns):\n",
            " #   Column   Non-Null Count  Dtype  \n",
            "---  ------   --------------  -----  \n",
            " 0   item_id  3159 non-null   object \n",
            " 1   median   3159 non-null   float64\n",
            "dtypes: float64(1), object(1)\n",
            "memory usage: 49.5+ KB\n"
          ],
          "name": "stdout"
        }
      ]
    },
    {
      "cell_type": "markdown",
      "metadata": {
        "id": "dAIQsIzbNUQJ",
        "colab_type": "text"
      },
      "source": [
        "2 файла содержат пропущенные значения, явные выбросы. Далее объединим данные из 2-х таблиц, рассмотрим подробнее."
      ]
    },
    {
      "cell_type": "markdown",
      "metadata": {
        "id": "hA2_0SBzM5Yu",
        "colab_type": "text"
      },
      "source": [
        "#Исследовательский анализ данных <p id =\"3\"></p>"
      ]
    },
    {
      "cell_type": "code",
      "metadata": {
        "id": "o4_u5z0-pcyA",
        "colab_type": "code",
        "colab": {}
      },
      "source": [
        "#объединим 2 датафрейма\n",
        "df_new = pd.merge(df, code_grouped, on = ('item_id'))"
      ],
      "execution_count": 11,
      "outputs": []
    },
    {
      "cell_type": "code",
      "metadata": {
        "id": "AyjLpf2E8xuy",
        "colab_type": "code",
        "colab": {
          "base_uri": "https://localhost:8080/",
          "height": 283
        },
        "outputId": "a28686c3-ac63-4e4f-c876-38f09b03bf35"
      },
      "source": [
        "df_new.info()"
      ],
      "execution_count": 12,
      "outputs": [
        {
          "output_type": "stream",
          "text": [
            "<class 'pandas.core.frame.DataFrame'>\n",
            "Int64Index: 105335 entries, 0 to 105334\n",
            "Data columns (total 8 columns):\n",
            " #   Column           Non-Null Count   Dtype  \n",
            "---  ------           --------------   -----  \n",
            " 0   purchaseid       105335 non-null  object \n",
            " 1   item_id          105335 non-null  object \n",
            " 2   quantity         105335 non-null  int64  \n",
            " 3   purchasedate     105335 non-null  object \n",
            " 4   customerid       69125 non-null   float64\n",
            " 5   shopid           105335 non-null  object \n",
            " 6   loyalty_program  105335 non-null  float64\n",
            " 7   median           105335 non-null  float64\n",
            "dtypes: float64(3), int64(1), object(4)\n",
            "memory usage: 7.2+ MB\n"
          ],
          "name": "stdout"
        }
      ]
    },
    {
      "cell_type": "code",
      "metadata": {
        "id": "lV8BxmxmZX_q",
        "colab_type": "code",
        "colab": {}
      },
      "source": [
        "df_new= (df_new.rename(\n",
        "    columns = {'purchaseid' : 'purchase_id',                                    #переименовываем названия колонок\n",
        "               'purchasedate' : 'purchase_date', \n",
        "               'customerid' : 'customer_id', \n",
        "               'shopid' : 'shop_id', \n",
        "               'median' : 'price_per_id' })\n",
        ".drop_duplicates()                                                              #удаляем дубликаты\n",
        ".assign(purchase_date = lambda x: pd.to_datetime(x['purchase_date']))           #приводим тип данных\n",
        ".assign(loyalty_program = lambda x: x['loyalty_program'].astype('int'))         #приводим дату к типу datetime\n",
        ".assign(customer_id = lambda x: x['customer_id'].fillna(value = '')))           #заполняем пропущенные значения"
      ],
      "execution_count": 13,
      "outputs": []
    },
    {
      "cell_type": "code",
      "metadata": {
        "id": "pNv3jTLb5HF0",
        "colab_type": "code",
        "colab": {}
      },
      "source": [
        "#новые столбцы с номером недели и месяца\n",
        "df_new['purchase_week'] = df_new['purchase_date'].dt.week\n",
        "df_new['purchase_month'] = df_new['purchase_date'].dt.month"
      ],
      "execution_count": 14,
      "outputs": []
    },
    {
      "cell_type": "code",
      "metadata": {
        "id": "CRDknsg4cd2A",
        "colab_type": "code",
        "colab": {
          "base_uri": "https://localhost:8080/",
          "height": 406
        },
        "outputId": "a84f1fcc-2b6a-4414-e58d-f3e95b95cb65"
      },
      "source": [
        "df_new"
      ],
      "execution_count": 15,
      "outputs": [
        {
          "output_type": "execute_result",
          "data": {
            "text/html": [
              "<div>\n",
              "<style scoped>\n",
              "    .dataframe tbody tr th:only-of-type {\n",
              "        vertical-align: middle;\n",
              "    }\n",
              "\n",
              "    .dataframe tbody tr th {\n",
              "        vertical-align: top;\n",
              "    }\n",
              "\n",
              "    .dataframe thead th {\n",
              "        text-align: right;\n",
              "    }\n",
              "</style>\n",
              "<table border=\"1\" class=\"dataframe\">\n",
              "  <thead>\n",
              "    <tr style=\"text-align: right;\">\n",
              "      <th></th>\n",
              "      <th>purchase_id</th>\n",
              "      <th>item_id</th>\n",
              "      <th>quantity</th>\n",
              "      <th>purchase_date</th>\n",
              "      <th>customer_id</th>\n",
              "      <th>shop_id</th>\n",
              "      <th>loyalty_program</th>\n",
              "      <th>price_per_id</th>\n",
              "      <th>purchase_week</th>\n",
              "      <th>purchase_month</th>\n",
              "    </tr>\n",
              "  </thead>\n",
              "  <tbody>\n",
              "    <tr>\n",
              "      <th>0</th>\n",
              "      <td>538280</td>\n",
              "      <td>21873</td>\n",
              "      <td>11</td>\n",
              "      <td>2016-12-10 12:50:00</td>\n",
              "      <td>18427</td>\n",
              "      <td>Shop 0</td>\n",
              "      <td>0</td>\n",
              "      <td>1.63</td>\n",
              "      <td>49</td>\n",
              "      <td>12</td>\n",
              "    </tr>\n",
              "    <tr>\n",
              "      <th>1</th>\n",
              "      <td>541104</td>\n",
              "      <td>21873</td>\n",
              "      <td>0</td>\n",
              "      <td>2017-01-13 14:29:00</td>\n",
              "      <td></td>\n",
              "      <td>Shop 0</td>\n",
              "      <td>0</td>\n",
              "      <td>1.63</td>\n",
              "      <td>2</td>\n",
              "      <td>1</td>\n",
              "    </tr>\n",
              "    <tr>\n",
              "      <th>2</th>\n",
              "      <td>540418</td>\n",
              "      <td>21873</td>\n",
              "      <td>1</td>\n",
              "      <td>2017-01-07 11:04:00</td>\n",
              "      <td></td>\n",
              "      <td>Shop 0</td>\n",
              "      <td>0</td>\n",
              "      <td>1.63</td>\n",
              "      <td>1</td>\n",
              "      <td>1</td>\n",
              "    </tr>\n",
              "    <tr>\n",
              "      <th>3</th>\n",
              "      <td>541516</td>\n",
              "      <td>21873</td>\n",
              "      <td>2</td>\n",
              "      <td>2017-01-18 17:34:00</td>\n",
              "      <td></td>\n",
              "      <td>Shop 0</td>\n",
              "      <td>0</td>\n",
              "      <td>1.63</td>\n",
              "      <td>3</td>\n",
              "      <td>1</td>\n",
              "    </tr>\n",
              "    <tr>\n",
              "      <th>4</th>\n",
              "      <td>541566</td>\n",
              "      <td>21873</td>\n",
              "      <td>35</td>\n",
              "      <td>2017-01-19 11:50:00</td>\n",
              "      <td>23401</td>\n",
              "      <td>Shop 0</td>\n",
              "      <td>1</td>\n",
              "      <td>1.63</td>\n",
              "      <td>3</td>\n",
              "      <td>1</td>\n",
              "    </tr>\n",
              "    <tr>\n",
              "      <th>...</th>\n",
              "      <td>...</td>\n",
              "      <td>...</td>\n",
              "      <td>...</td>\n",
              "      <td>...</td>\n",
              "      <td>...</td>\n",
              "      <td>...</td>\n",
              "      <td>...</td>\n",
              "      <td>...</td>\n",
              "      <td>...</td>\n",
              "      <td>...</td>\n",
              "    </tr>\n",
              "    <tr>\n",
              "      <th>105330</th>\n",
              "      <td>538852</td>\n",
              "      <td>90058B</td>\n",
              "      <td>35</td>\n",
              "      <td>2016-12-14 13:33:00</td>\n",
              "      <td>23051</td>\n",
              "      <td>Shop 0</td>\n",
              "      <td>1</td>\n",
              "      <td>0.38</td>\n",
              "      <td>50</td>\n",
              "      <td>12</td>\n",
              "    </tr>\n",
              "    <tr>\n",
              "      <th>105331</th>\n",
              "      <td>539988</td>\n",
              "      <td>46138B</td>\n",
              "      <td>1</td>\n",
              "      <td>2016-12-23 16:06:00</td>\n",
              "      <td>23795</td>\n",
              "      <td>Shop 0</td>\n",
              "      <td>1</td>\n",
              "      <td>1.95</td>\n",
              "      <td>51</td>\n",
              "      <td>12</td>\n",
              "    </tr>\n",
              "    <tr>\n",
              "      <th>105332</th>\n",
              "      <td>537025</td>\n",
              "      <td>90053</td>\n",
              "      <td>0</td>\n",
              "      <td>2016-12-03 16:21:00</td>\n",
              "      <td></td>\n",
              "      <td>Shop 0</td>\n",
              "      <td>0</td>\n",
              "      <td>2.55</td>\n",
              "      <td>48</td>\n",
              "      <td>12</td>\n",
              "    </tr>\n",
              "    <tr>\n",
              "      <th>105333</th>\n",
              "      <td>542731</td>\n",
              "      <td>17028J</td>\n",
              "      <td>5</td>\n",
              "      <td>2017-01-31 15:27:00</td>\n",
              "      <td>19279</td>\n",
              "      <td>Shop 0</td>\n",
              "      <td>0</td>\n",
              "      <td>0.42</td>\n",
              "      <td>5</td>\n",
              "      <td>1</td>\n",
              "    </tr>\n",
              "    <tr>\n",
              "      <th>105334</th>\n",
              "      <td>C540246</td>\n",
              "      <td>79320</td>\n",
              "      <td>-2</td>\n",
              "      <td>2017-01-05 15:43:00</td>\n",
              "      <td>18760</td>\n",
              "      <td>Shop 0</td>\n",
              "      <td>0</td>\n",
              "      <td>4.95</td>\n",
              "      <td>1</td>\n",
              "      <td>1</td>\n",
              "    </tr>\n",
              "  </tbody>\n",
              "</table>\n",
              "<p>104302 rows × 10 columns</p>\n",
              "</div>"
            ],
            "text/plain": [
              "       purchase_id item_id  ...  purchase_week purchase_month\n",
              "0           538280   21873  ...             49             12\n",
              "1           541104   21873  ...              2              1\n",
              "2           540418   21873  ...              1              1\n",
              "3           541516   21873  ...              3              1\n",
              "4           541566   21873  ...              3              1\n",
              "...            ...     ...  ...            ...            ...\n",
              "105330      538852  90058B  ...             50             12\n",
              "105331      539988  46138B  ...             51             12\n",
              "105332      537025   90053  ...             48             12\n",
              "105333      542731  17028J  ...              5              1\n",
              "105334     C540246   79320  ...              1              1\n",
              "\n",
              "[104302 rows x 10 columns]"
            ]
          },
          "metadata": {
            "tags": []
          },
          "execution_count": 15
        }
      ]
    },
    {
      "cell_type": "markdown",
      "metadata": {
        "id": "0bC76vfXP3Pc",
        "colab_type": "text"
      },
      "source": [
        "Объединили датафрейм, с которым будет работать"
      ]
    },
    {
      "cell_type": "code",
      "metadata": {
        "id": "njEgkgOR3b22",
        "colab_type": "code",
        "colab": {
          "base_uri": "https://localhost:8080/",
          "height": 34
        },
        "outputId": "d8722707-dde0-4cb7-cdef-095e7655c1f7"
      },
      "source": [
        "print('Первая дата отчета', df_new['purchase_date'].min())"
      ],
      "execution_count": 16,
      "outputs": [
        {
          "output_type": "stream",
          "text": [
            "Первая дата отчета 2016-12-01 08:26:00\n"
          ],
          "name": "stdout"
        }
      ]
    },
    {
      "cell_type": "code",
      "metadata": {
        "id": "t0ZtuxtY3eEA",
        "colab_type": "code",
        "colab": {
          "base_uri": "https://localhost:8080/",
          "height": 34
        },
        "outputId": "d2195070-b53e-4342-8685-4827697384f4"
      },
      "source": [
        "print('Последняя дата отчета',df_new['purchase_date'].max())"
      ],
      "execution_count": 17,
      "outputs": [
        {
          "output_type": "stream",
          "text": [
            "Последняя дата отчета 2017-02-28 17:04:00\n"
          ],
          "name": "stdout"
        }
      ]
    },
    {
      "cell_type": "code",
      "metadata": {
        "id": "oF-T7qNHPhOR",
        "colab_type": "code",
        "colab": {
          "base_uri": "https://localhost:8080/",
          "height": 34
        },
        "outputId": "ae8eac30-2cff-44c6-c572-ec6589fdf9f7"
      },
      "source": [
        "df_new['purchase_week'].unique()"
      ],
      "execution_count": 18,
      "outputs": [
        {
          "output_type": "execute_result",
          "data": {
            "text/plain": [
              "array([49,  2,  1,  3, 50,  6,  8,  9,  5, 51,  7, 48,  4])"
            ]
          },
          "metadata": {
            "tags": []
          },
          "execution_count": 18
        }
      ]
    },
    {
      "cell_type": "markdown",
      "metadata": {
        "id": "7Ga0LojZPwMy",
        "colab_type": "text"
      },
      "source": [
        "Мы располагаем данными за период с 1 декабря 2016 года по 28 февраля 2017 года, причем данные за новогодние праздники отсутствуют."
      ]
    },
    {
      "cell_type": "markdown",
      "metadata": {
        "id": "sntD1UfTT2qs",
        "colab_type": "text"
      },
      "source": [
        "Добавим новый столбец сумма, рассчитанный умножением стоимости товара и количества товара в чеке"
      ]
    },
    {
      "cell_type": "code",
      "metadata": {
        "id": "d_59V76X_RjS",
        "colab_type": "code",
        "colab": {}
      },
      "source": [
        "df_new['sum'] = df_new['quantity'] * df_new['price_per_id']"
      ],
      "execution_count": 19,
      "outputs": []
    },
    {
      "cell_type": "markdown",
      "metadata": {
        "id": "RdKb2h3oQS7g",
        "colab_type": "text"
      },
      "source": [
        "Исследуем столбец quantity"
      ]
    },
    {
      "cell_type": "code",
      "metadata": {
        "id": "KpLcLZAr7EFm",
        "colab_type": "code",
        "colab": {
          "base_uri": "https://localhost:8080/",
          "height": 406
        },
        "outputId": "c80c73ff-d76d-4240-8782-44cd1b71fc2e"
      },
      "source": [
        "#срез количество покупок меньше 0\n",
        "df_new[df_new['quantity'] < 0]"
      ],
      "execution_count": 20,
      "outputs": [
        {
          "output_type": "execute_result",
          "data": {
            "text/html": [
              "<div>\n",
              "<style scoped>\n",
              "    .dataframe tbody tr th:only-of-type {\n",
              "        vertical-align: middle;\n",
              "    }\n",
              "\n",
              "    .dataframe tbody tr th {\n",
              "        vertical-align: top;\n",
              "    }\n",
              "\n",
              "    .dataframe thead th {\n",
              "        text-align: right;\n",
              "    }\n",
              "</style>\n",
              "<table border=\"1\" class=\"dataframe\">\n",
              "  <thead>\n",
              "    <tr style=\"text-align: right;\">\n",
              "      <th></th>\n",
              "      <th>purchase_id</th>\n",
              "      <th>item_id</th>\n",
              "      <th>quantity</th>\n",
              "      <th>purchase_date</th>\n",
              "      <th>customer_id</th>\n",
              "      <th>shop_id</th>\n",
              "      <th>loyalty_program</th>\n",
              "      <th>price_per_id</th>\n",
              "      <th>purchase_week</th>\n",
              "      <th>purchase_month</th>\n",
              "      <th>sum</th>\n",
              "    </tr>\n",
              "  </thead>\n",
              "  <tbody>\n",
              "    <tr>\n",
              "      <th>49</th>\n",
              "      <td>C542537</td>\n",
              "      <td>22195</td>\n",
              "      <td>-2</td>\n",
              "      <td>2017-01-28 13:54:00</td>\n",
              "      <td>18180</td>\n",
              "      <td>Shop 4</td>\n",
              "      <td>0</td>\n",
              "      <td>3.29</td>\n",
              "      <td>4</td>\n",
              "      <td>1</td>\n",
              "      <td>-6.58</td>\n",
              "    </tr>\n",
              "    <tr>\n",
              "      <th>349</th>\n",
              "      <td>C540250</td>\n",
              "      <td>79321</td>\n",
              "      <td>-2</td>\n",
              "      <td>2017-01-05 16:02:00</td>\n",
              "      <td>23190</td>\n",
              "      <td>Shop 0</td>\n",
              "      <td>1</td>\n",
              "      <td>5.75</td>\n",
              "      <td>1</td>\n",
              "      <td>1</td>\n",
              "      <td>-11.50</td>\n",
              "    </tr>\n",
              "    <tr>\n",
              "      <th>446</th>\n",
              "      <td>C540417</td>\n",
              "      <td>79321</td>\n",
              "      <td>-73</td>\n",
              "      <td>2017-01-07 10:56:00</td>\n",
              "      <td>19359</td>\n",
              "      <td>Shop 0</td>\n",
              "      <td>0</td>\n",
              "      <td>5.75</td>\n",
              "      <td>1</td>\n",
              "      <td>1</td>\n",
              "      <td>-419.75</td>\n",
              "    </tr>\n",
              "    <tr>\n",
              "      <th>678</th>\n",
              "      <td>C542078</td>\n",
              "      <td>22189</td>\n",
              "      <td>-2</td>\n",
              "      <td>2017-01-25 12:11:00</td>\n",
              "      <td>18533</td>\n",
              "      <td>Shop 0</td>\n",
              "      <td>0</td>\n",
              "      <td>3.95</td>\n",
              "      <td>4</td>\n",
              "      <td>1</td>\n",
              "      <td>-7.90</td>\n",
              "    </tr>\n",
              "    <tr>\n",
              "      <th>735</th>\n",
              "      <td>C542792</td>\n",
              "      <td>22891</td>\n",
              "      <td>-2</td>\n",
              "      <td>2017-02-01 10:49:00</td>\n",
              "      <td>20306</td>\n",
              "      <td>Shop 0</td>\n",
              "      <td>0</td>\n",
              "      <td>6.27</td>\n",
              "      <td>5</td>\n",
              "      <td>2</td>\n",
              "      <td>-12.54</td>\n",
              "    </tr>\n",
              "    <tr>\n",
              "      <th>...</th>\n",
              "      <td>...</td>\n",
              "      <td>...</td>\n",
              "      <td>...</td>\n",
              "      <td>...</td>\n",
              "      <td>...</td>\n",
              "      <td>...</td>\n",
              "      <td>...</td>\n",
              "      <td>...</td>\n",
              "      <td>...</td>\n",
              "      <td>...</td>\n",
              "      <td>...</td>\n",
              "    </tr>\n",
              "    <tr>\n",
              "      <th>105309</th>\n",
              "      <td>545219</td>\n",
              "      <td>20738</td>\n",
              "      <td>-37</td>\n",
              "      <td>2017-02-28 17:04:00</td>\n",
              "      <td></td>\n",
              "      <td>Shop 0</td>\n",
              "      <td>0</td>\n",
              "      <td>0.00</td>\n",
              "      <td>9</td>\n",
              "      <td>2</td>\n",
              "      <td>-0.00</td>\n",
              "    </tr>\n",
              "    <tr>\n",
              "      <th>105316</th>\n",
              "      <td>C544653</td>\n",
              "      <td>85065</td>\n",
              "      <td>-2</td>\n",
              "      <td>2017-02-22 12:55:00</td>\n",
              "      <td>18792</td>\n",
              "      <td>Shop 0</td>\n",
              "      <td>0</td>\n",
              "      <td>12.75</td>\n",
              "      <td>8</td>\n",
              "      <td>2</td>\n",
              "      <td>-25.50</td>\n",
              "    </tr>\n",
              "    <tr>\n",
              "      <th>105318</th>\n",
              "      <td>542556</td>\n",
              "      <td>22143</td>\n",
              "      <td>-2</td>\n",
              "      <td>2017-01-28 14:50:00</td>\n",
              "      <td></td>\n",
              "      <td>Shop 0</td>\n",
              "      <td>0</td>\n",
              "      <td>0.00</td>\n",
              "      <td>4</td>\n",
              "      <td>1</td>\n",
              "      <td>-0.00</td>\n",
              "    </tr>\n",
              "    <tr>\n",
              "      <th>105329</th>\n",
              "      <td>540560</td>\n",
              "      <td>21589</td>\n",
              "      <td>-15</td>\n",
              "      <td>2017-01-10 10:08:00</td>\n",
              "      <td></td>\n",
              "      <td>Shop 0</td>\n",
              "      <td>0</td>\n",
              "      <td>0.00</td>\n",
              "      <td>2</td>\n",
              "      <td>1</td>\n",
              "      <td>-0.00</td>\n",
              "    </tr>\n",
              "    <tr>\n",
              "      <th>105334</th>\n",
              "      <td>C540246</td>\n",
              "      <td>79320</td>\n",
              "      <td>-2</td>\n",
              "      <td>2017-01-05 15:43:00</td>\n",
              "      <td>18760</td>\n",
              "      <td>Shop 0</td>\n",
              "      <td>0</td>\n",
              "      <td>4.95</td>\n",
              "      <td>1</td>\n",
              "      <td>1</td>\n",
              "      <td>-9.90</td>\n",
              "    </tr>\n",
              "  </tbody>\n",
              "</table>\n",
              "<p>2076 rows × 11 columns</p>\n",
              "</div>"
            ],
            "text/plain": [
              "       purchase_id item_id  quantity  ... purchase_week purchase_month     sum\n",
              "49         C542537   22195        -2  ...             4              1   -6.58\n",
              "349        C540250   79321        -2  ...             1              1  -11.50\n",
              "446        C540417   79321       -73  ...             1              1 -419.75\n",
              "678        C542078   22189        -2  ...             4              1   -7.90\n",
              "735        C542792   22891        -2  ...             5              2  -12.54\n",
              "...            ...     ...       ...  ...           ...            ...     ...\n",
              "105309      545219   20738       -37  ...             9              2   -0.00\n",
              "105316     C544653   85065        -2  ...             8              2  -25.50\n",
              "105318      542556   22143        -2  ...             4              1   -0.00\n",
              "105329      540560   21589       -15  ...             2              1   -0.00\n",
              "105334     C540246   79320        -2  ...             1              1   -9.90\n",
              "\n",
              "[2076 rows x 11 columns]"
            ]
          },
          "metadata": {
            "tags": []
          },
          "execution_count": 20
        }
      ]
    },
    {
      "cell_type": "code",
      "metadata": {
        "id": "73nwWkfW32ip",
        "colab_type": "code",
        "colab": {
          "base_uri": "https://localhost:8080/",
          "height": 107
        },
        "outputId": "bd93988a-97d8-4d3b-8094-c29e277ecc67"
      },
      "source": [
        "df_new.loc[(df_new['item_id'] == \"79321\") & (df_new['customer_id'] == 19359)]"
      ],
      "execution_count": 21,
      "outputs": [
        {
          "output_type": "execute_result",
          "data": {
            "text/html": [
              "<div>\n",
              "<style scoped>\n",
              "    .dataframe tbody tr th:only-of-type {\n",
              "        vertical-align: middle;\n",
              "    }\n",
              "\n",
              "    .dataframe tbody tr th {\n",
              "        vertical-align: top;\n",
              "    }\n",
              "\n",
              "    .dataframe thead th {\n",
              "        text-align: right;\n",
              "    }\n",
              "</style>\n",
              "<table border=\"1\" class=\"dataframe\">\n",
              "  <thead>\n",
              "    <tr style=\"text-align: right;\">\n",
              "      <th></th>\n",
              "      <th>purchase_id</th>\n",
              "      <th>item_id</th>\n",
              "      <th>quantity</th>\n",
              "      <th>purchase_date</th>\n",
              "      <th>customer_id</th>\n",
              "      <th>shop_id</th>\n",
              "      <th>loyalty_program</th>\n",
              "      <th>price_per_id</th>\n",
              "      <th>purchase_week</th>\n",
              "      <th>purchase_month</th>\n",
              "      <th>sum</th>\n",
              "    </tr>\n",
              "  </thead>\n",
              "  <tbody>\n",
              "    <tr>\n",
              "      <th>443</th>\n",
              "      <td>540275</td>\n",
              "      <td>79321</td>\n",
              "      <td>71</td>\n",
              "      <td>2017-01-06 12:11:00</td>\n",
              "      <td>19359</td>\n",
              "      <td>Shop 0</td>\n",
              "      <td>0</td>\n",
              "      <td>5.75</td>\n",
              "      <td>1</td>\n",
              "      <td>1</td>\n",
              "      <td>408.25</td>\n",
              "    </tr>\n",
              "    <tr>\n",
              "      <th>446</th>\n",
              "      <td>C540417</td>\n",
              "      <td>79321</td>\n",
              "      <td>-73</td>\n",
              "      <td>2017-01-07 10:56:00</td>\n",
              "      <td>19359</td>\n",
              "      <td>Shop 0</td>\n",
              "      <td>0</td>\n",
              "      <td>5.75</td>\n",
              "      <td>1</td>\n",
              "      <td>1</td>\n",
              "      <td>-419.75</td>\n",
              "    </tr>\n",
              "  </tbody>\n",
              "</table>\n",
              "</div>"
            ],
            "text/plain": [
              "    purchase_id item_id  quantity  ... purchase_week purchase_month     sum\n",
              "443      540275   79321        71  ...             1              1  408.25\n",
              "446     C540417   79321       -73  ...             1              1 -419.75\n",
              "\n",
              "[2 rows x 11 columns]"
            ]
          },
          "metadata": {
            "tags": []
          },
          "execution_count": 21
        }
      ]
    },
    {
      "cell_type": "code",
      "metadata": {
        "id": "2eFSAPno6nQr",
        "colab_type": "code",
        "colab": {
          "base_uri": "https://localhost:8080/",
          "height": 77
        },
        "outputId": "cab1c949-3f51-4cbe-9892-12673b28fb0e"
      },
      "source": [
        "df_new.loc[(df_new['item_id'] == \"79320\") & (df_new['customer_id'] == 18760)]"
      ],
      "execution_count": 22,
      "outputs": [
        {
          "output_type": "execute_result",
          "data": {
            "text/html": [
              "<div>\n",
              "<style scoped>\n",
              "    .dataframe tbody tr th:only-of-type {\n",
              "        vertical-align: middle;\n",
              "    }\n",
              "\n",
              "    .dataframe tbody tr th {\n",
              "        vertical-align: top;\n",
              "    }\n",
              "\n",
              "    .dataframe thead th {\n",
              "        text-align: right;\n",
              "    }\n",
              "</style>\n",
              "<table border=\"1\" class=\"dataframe\">\n",
              "  <thead>\n",
              "    <tr style=\"text-align: right;\">\n",
              "      <th></th>\n",
              "      <th>purchase_id</th>\n",
              "      <th>item_id</th>\n",
              "      <th>quantity</th>\n",
              "      <th>purchase_date</th>\n",
              "      <th>customer_id</th>\n",
              "      <th>shop_id</th>\n",
              "      <th>loyalty_program</th>\n",
              "      <th>price_per_id</th>\n",
              "      <th>purchase_week</th>\n",
              "      <th>purchase_month</th>\n",
              "      <th>sum</th>\n",
              "    </tr>\n",
              "  </thead>\n",
              "  <tbody>\n",
              "    <tr>\n",
              "      <th>105334</th>\n",
              "      <td>C540246</td>\n",
              "      <td>79320</td>\n",
              "      <td>-2</td>\n",
              "      <td>2017-01-05 15:43:00</td>\n",
              "      <td>18760</td>\n",
              "      <td>Shop 0</td>\n",
              "      <td>0</td>\n",
              "      <td>4.95</td>\n",
              "      <td>1</td>\n",
              "      <td>1</td>\n",
              "      <td>-9.9</td>\n",
              "    </tr>\n",
              "  </tbody>\n",
              "</table>\n",
              "</div>"
            ],
            "text/plain": [
              "       purchase_id item_id  quantity  ... purchase_week purchase_month  sum\n",
              "105334     C540246   79320        -2  ...             1              1 -9.9\n",
              "\n",
              "[1 rows x 11 columns]"
            ]
          },
          "metadata": {
            "tags": []
          },
          "execution_count": 22
        }
      ]
    },
    {
      "cell_type": "markdown",
      "metadata": {
        "id": "m114Avt87Tx5",
        "colab_type": "text"
      },
      "source": [
        "Есть отрицательные значения количества покупок. Это позиции, которые вернули. Мы видим, что в датасете есть данные о покупке этих позиций и об их возврате, но есть и строки, где только возврат, без информации об их покупке, значит эта информация в данный датасет не попала по причине того, что покупка была совершена раньше"
      ]
    },
    {
      "cell_type": "markdown",
      "metadata": {
        "id": "vw4bUgVs70ke",
        "colab_type": "text"
      },
      "source": [
        "Оставляем данные, так как при суммарных подсчетах они будут учитываться со знаком минус и корректно отобразят движение денежных средств"
      ]
    },
    {
      "cell_type": "code",
      "metadata": {
        "id": "3CJ1xuUsJRvI",
        "colab_type": "code",
        "colab": {
          "base_uri": "https://localhost:8080/",
          "height": 392
        },
        "outputId": "0e9d29a5-da3d-46a9-cf85-598134d7420a"
      },
      "source": [
        "df_new[['quantity']].boxplot(figsize = (12,6))"
      ],
      "execution_count": 23,
      "outputs": [
        {
          "output_type": "execute_result",
          "data": {
            "text/plain": [
              "<matplotlib.axes._subplots.AxesSubplot at 0x7fb29232d908>"
            ]
          },
          "metadata": {
            "tags": []
          },
          "execution_count": 23
        },
        {
          "output_type": "display_data",
          "data": {
            "image/png": "[encoded data removed]",
            "text/plain": [
              "<Figure size 864x432 with 1 Axes>"
            ]
          },
          "metadata": {
            "tags": [],
            "needs_background": "light"
          }
        }
      ]
    },
    {
      "cell_type": "code",
      "metadata": {
        "id": "3sALumXh85Kp",
        "colab_type": "code",
        "colab": {
          "base_uri": "https://localhost:8080/",
          "height": 392
        },
        "outputId": "7f777ea7-037c-4a63-ce12-0f73e2c1d240"
      },
      "source": [
        "df_new.query('quantity < 100 & quantity >0')[['quantity']].boxplot(figsize = (12,6))"
      ],
      "execution_count": 24,
      "outputs": [
        {
          "output_type": "execute_result",
          "data": {
            "text/plain": [
              "<matplotlib.axes._subplots.AxesSubplot at 0x7fb292287320>"
            ]
          },
          "metadata": {
            "tags": []
          },
          "execution_count": 24
        },
        {
          "output_type": "display_data",
          "data": {
            "image/png": "[encoded data removed]",
            "text/plain": [
              "<Figure size 864x432 with 1 Axes>"
            ]
          },
          "metadata": {
            "tags": [],
            "needs_background": "light"
          }
        }
      ]
    },
    {
      "cell_type": "markdown",
      "metadata": {
        "id": "IsSVbV_x9TV8",
        "colab_type": "text"
      },
      "source": [
        "Очень большой хвост, нужно рассматривать точки с большим количеством покупок"
      ]
    },
    {
      "cell_type": "code",
      "metadata": {
        "id": "7VOwdJnI9a8y",
        "colab_type": "code",
        "colab": {
          "base_uri": "https://localhost:8080/",
          "height": 34
        },
        "outputId": "6de0914e-3f0d-4679-8157-ad2e0dfe0441"
      },
      "source": [
        "df_new.query('quantity >70000')['shop_id'].unique()"
      ],
      "execution_count": 25,
      "outputs": [
        {
          "output_type": "execute_result",
          "data": {
            "text/plain": [
              "array(['Shop 0'], dtype=object)"
            ]
          },
          "metadata": {
            "tags": []
          },
          "execution_count": 25
        }
      ]
    },
    {
      "cell_type": "markdown",
      "metadata": {
        "id": "ui_F5mnXR4qE",
        "colab_type": "text"
      },
      "source": [
        "Точка с большим количеством покупок (более 70 000) Shop 0"
      ]
    },
    {
      "cell_type": "code",
      "metadata": {
        "id": "E6fezcWwsUlB",
        "colab_type": "code",
        "colab": {
          "base_uri": "https://localhost:8080/",
          "height": 545
        },
        "outputId": "70be9f60-cbbd-4f3a-8a56-d30de33b6e50"
      },
      "source": [
        "plt.figure(figsize=(16,8))\n",
        "sns.boxplot(x = 'shop_id', y = 'quantity' , data=df_new[~df_new['shop_id'].isin(['Shop 0'])])\n",
        "plt.title('Распределение количества товаров в чеке по магазинам')\n",
        "plt.xticks(rotation=75)\n",
        "plt.ylabel('Количество');"
      ],
      "execution_count": 26,
      "outputs": [
        {
          "output_type": "display_data",
          "data": {
            "image/png": "[encoded data removed]",
            "text/plain": [
              "<Figure size 1152x576 with 1 Axes>"
            ]
          },
          "metadata": {
            "tags": [],
            "needs_background": "light"
          }
        }
      ]
    },
    {
      "cell_type": "markdown",
      "metadata": {
        "id": "VGZ1cBjHSgnM",
        "colab_type": "text"
      },
      "source": [
        "Большой разброс данных по магазинам, вероятно, из-за недостаточного накопления данных. Отфильтруем выбросы и просчитаем процент отфильтрованных данных."
      ]
    },
    {
      "cell_type": "code",
      "metadata": {
        "id": "ZS5l2uq9NoMw",
        "colab_type": "code",
        "colab": {}
      },
      "source": [
        "#новая таблица. срез -250 < quantity < 500\n",
        "df_new_filtered = df_new[(df_new['quantity'] <500) & (df_new['quantity'] > -250)]"
      ],
      "execution_count": 27,
      "outputs": []
    },
    {
      "cell_type": "code",
      "metadata": {
        "id": "B1SAbR_pTCeh",
        "colab_type": "code",
        "colab": {
          "base_uri": "https://localhost:8080/",
          "height": 545
        },
        "outputId": "f435aa27-a50f-4fce-f529-d76af4cf33ee"
      },
      "source": [
        "plt.figure(figsize=(16,8))\n",
        "sns.boxplot(x = 'shop_id', y = 'quantity' , data=df_new_filtered)\n",
        "plt.title('Распределение количества товаров в чеке по магазинам')\n",
        "plt.xticks(rotation=75)\n",
        "plt.ylabel('Количество');"
      ],
      "execution_count": 28,
      "outputs": [
        {
          "output_type": "display_data",
          "data": {
            "image/png": "[encoded data removed]",
            "text/plain": [
              "<Figure size 1152x576 with 1 Axes>"
            ]
          },
          "metadata": {
            "tags": [],
            "needs_background": "light"
          }
        }
      ]
    },
    {
      "cell_type": "markdown",
      "metadata": {
        "id": "2Lsw5jZdTscc",
        "colab_type": "text"
      },
      "source": [
        "Отфильтровали данные, магазин Shop 0 выделяется на фоне всех остальных"
      ]
    },
    {
      "cell_type": "code",
      "metadata": {
        "id": "ZT1BM7RET_HQ",
        "colab_type": "code",
        "colab": {
          "base_uri": "https://localhost:8080/",
          "height": 197
        },
        "outputId": "2b7a469b-0972-4c77-a0a1-c1c04ffba77d"
      },
      "source": [
        "df_new_filtered.head()"
      ],
      "execution_count": 29,
      "outputs": [
        {
          "output_type": "execute_result",
          "data": {
            "text/html": [
              "<div>\n",
              "<style scoped>\n",
              "    .dataframe tbody tr th:only-of-type {\n",
              "        vertical-align: middle;\n",
              "    }\n",
              "\n",
              "    .dataframe tbody tr th {\n",
              "        vertical-align: top;\n",
              "    }\n",
              "\n",
              "    .dataframe thead th {\n",
              "        text-align: right;\n",
              "    }\n",
              "</style>\n",
              "<table border=\"1\" class=\"dataframe\">\n",
              "  <thead>\n",
              "    <tr style=\"text-align: right;\">\n",
              "      <th></th>\n",
              "      <th>purchase_id</th>\n",
              "      <th>item_id</th>\n",
              "      <th>quantity</th>\n",
              "      <th>purchase_date</th>\n",
              "      <th>customer_id</th>\n",
              "      <th>shop_id</th>\n",
              "      <th>loyalty_program</th>\n",
              "      <th>price_per_id</th>\n",
              "      <th>purchase_week</th>\n",
              "      <th>purchase_month</th>\n",
              "      <th>sum</th>\n",
              "    </tr>\n",
              "  </thead>\n",
              "  <tbody>\n",
              "    <tr>\n",
              "      <th>0</th>\n",
              "      <td>538280</td>\n",
              "      <td>21873</td>\n",
              "      <td>11</td>\n",
              "      <td>2016-12-10 12:50:00</td>\n",
              "      <td>18427</td>\n",
              "      <td>Shop 0</td>\n",
              "      <td>0</td>\n",
              "      <td>1.63</td>\n",
              "      <td>49</td>\n",
              "      <td>12</td>\n",
              "      <td>17.93</td>\n",
              "    </tr>\n",
              "    <tr>\n",
              "      <th>1</th>\n",
              "      <td>541104</td>\n",
              "      <td>21873</td>\n",
              "      <td>0</td>\n",
              "      <td>2017-01-13 14:29:00</td>\n",
              "      <td></td>\n",
              "      <td>Shop 0</td>\n",
              "      <td>0</td>\n",
              "      <td>1.63</td>\n",
              "      <td>2</td>\n",
              "      <td>1</td>\n",
              "      <td>0.00</td>\n",
              "    </tr>\n",
              "    <tr>\n",
              "      <th>2</th>\n",
              "      <td>540418</td>\n",
              "      <td>21873</td>\n",
              "      <td>1</td>\n",
              "      <td>2017-01-07 11:04:00</td>\n",
              "      <td></td>\n",
              "      <td>Shop 0</td>\n",
              "      <td>0</td>\n",
              "      <td>1.63</td>\n",
              "      <td>1</td>\n",
              "      <td>1</td>\n",
              "      <td>1.63</td>\n",
              "    </tr>\n",
              "    <tr>\n",
              "      <th>3</th>\n",
              "      <td>541516</td>\n",
              "      <td>21873</td>\n",
              "      <td>2</td>\n",
              "      <td>2017-01-18 17:34:00</td>\n",
              "      <td></td>\n",
              "      <td>Shop 0</td>\n",
              "      <td>0</td>\n",
              "      <td>1.63</td>\n",
              "      <td>3</td>\n",
              "      <td>1</td>\n",
              "      <td>3.26</td>\n",
              "    </tr>\n",
              "    <tr>\n",
              "      <th>4</th>\n",
              "      <td>541566</td>\n",
              "      <td>21873</td>\n",
              "      <td>35</td>\n",
              "      <td>2017-01-19 11:50:00</td>\n",
              "      <td>23401</td>\n",
              "      <td>Shop 0</td>\n",
              "      <td>1</td>\n",
              "      <td>1.63</td>\n",
              "      <td>3</td>\n",
              "      <td>1</td>\n",
              "      <td>57.05</td>\n",
              "    </tr>\n",
              "  </tbody>\n",
              "</table>\n",
              "</div>"
            ],
            "text/plain": [
              "  purchase_id item_id  quantity  ... purchase_week purchase_month    sum\n",
              "0      538280   21873        11  ...            49             12  17.93\n",
              "1      541104   21873         0  ...             2              1   0.00\n",
              "2      540418   21873         1  ...             1              1   1.63\n",
              "3      541516   21873         2  ...             3              1   3.26\n",
              "4      541566   21873        35  ...             3              1  57.05\n",
              "\n",
              "[5 rows x 11 columns]"
            ]
          },
          "metadata": {
            "tags": []
          },
          "execution_count": 29
        }
      ]
    },
    {
      "cell_type": "markdown",
      "metadata": {
        "id": "wGp-gXsVVE5Y",
        "colab_type": "text"
      },
      "source": [
        "Исследуем стоимости покупок"
      ]
    },
    {
      "cell_type": "code",
      "metadata": {
        "id": "x8ULy1SnUIbP",
        "colab_type": "code",
        "colab": {
          "base_uri": "https://localhost:8080/",
          "height": 545
        },
        "outputId": "9ea8f654-d340-4ea4-bf5e-b5ea51ffd90d"
      },
      "source": [
        "plt.figure(figsize=(16,8))\n",
        "sns.boxplot(x = 'shop_id', y = 'sum' , data=df_new_filtered)\n",
        "plt.title('Распределение сум за товары')\n",
        "plt.xticks(rotation=75)\n",
        "plt.ylabel('Сумма');"
      ],
      "execution_count": 30,
      "outputs": [
        {
          "output_type": "display_data",
          "data": {
            "image/png": "[encoded data removed]",
            "text/plain": [
              "<Figure size 1152x576 with 1 Axes>"
            ]
          },
          "metadata": {
            "tags": [],
            "needs_background": "light"
          }
        }
      ]
    },
    {
      "cell_type": "markdown",
      "metadata": {
        "id": "oOPsk8VpVKhL",
        "colab_type": "text"
      },
      "source": [
        "Shop 0 не дает посмотреть полностью картину, посмотрим распределение без него"
      ]
    },
    {
      "cell_type": "code",
      "metadata": {
        "id": "IeHQSd_YPUVT",
        "colab_type": "code",
        "colab": {
          "base_uri": "https://localhost:8080/",
          "height": 545
        },
        "outputId": "34d66a97-0645-4eba-f5c5-2a55c6fe1d05"
      },
      "source": [
        "plt.figure(figsize=(16,8))\n",
        "sns.boxplot(x = 'shop_id', y = 'sum' , data=df_new_filtered[~df_new_filtered['shop_id'].isin(['Shop 0'])])\n",
        "plt.title('Распределение сум за товары')\n",
        "plt.xticks(rotation=75)\n",
        "plt.ylabel('Сумма');"
      ],
      "execution_count": 31,
      "outputs": [
        {
          "output_type": "display_data",
          "data": {
            "image/png": "[encoded data removed]",
            "text/plain": [
              "<Figure size 1152x576 with 1 Axes>"
            ]
          },
          "metadata": {
            "tags": [],
            "needs_background": "light"
          }
        }
      ]
    },
    {
      "cell_type": "markdown",
      "metadata": {
        "id": "AXKZYDcJVeEw",
        "colab_type": "text"
      },
      "source": [
        "Разбросы по суммам тоже большие, как и количество покупок. Отфильтруем данные"
      ]
    },
    {
      "cell_type": "code",
      "metadata": {
        "id": "Qdh4bfBwKXCB",
        "colab_type": "code",
        "colab": {}
      },
      "source": [
        "df_new_filtered = df_new_filtered.loc[(df_new_filtered['sum'] < 1500) & (df_new_filtered['sum'] > -1000)]"
      ],
      "execution_count": 32,
      "outputs": []
    },
    {
      "cell_type": "code",
      "metadata": {
        "id": "1-XKJYLNPuIo",
        "colab_type": "code",
        "colab": {
          "base_uri": "https://localhost:8080/",
          "height": 545
        },
        "outputId": "85090359-75e7-4026-f624-6fc92a4076ec"
      },
      "source": [
        "plt.figure(figsize=(16,8))\n",
        "sns.boxplot(x = 'shop_id', y = 'sum' , data=df_new_filtered[~df_new_filtered['shop_id'].isin(['Shop 0'])])\n",
        "plt.title('Распределение сум за товары по магазинам')\n",
        "plt.xticks(rotation=75)\n",
        "plt.ylabel('Сумма');"
      ],
      "execution_count": 33,
      "outputs": [
        {
          "output_type": "display_data",
          "data": {
            "image/png": "[encoded data removed]",
            "text/plain": [
              "<Figure size 1152x576 with 1 Axes>"
            ]
          },
          "metadata": {
            "tags": [],
            "needs_background": "light"
          }
        }
      ]
    },
    {
      "cell_type": "code",
      "metadata": {
        "id": "yNJvyPXAQT-J",
        "colab_type": "code",
        "colab": {
          "base_uri": "https://localhost:8080/",
          "height": 34
        },
        "outputId": "52962f0c-558b-40ce-feed-a8945dadd9ef"
      },
      "source": [
        "print('Процент отфильтрованных данных', 100 - (len(df_new_filtered) *100  / len(df_new)))"
      ],
      "execution_count": 34,
      "outputs": [
        {
          "output_type": "stream",
          "text": [
            "Процент отфильтрованных данных 0.13134935092328703\n"
          ],
          "name": "stdout"
        }
      ]
    },
    {
      "cell_type": "markdown",
      "metadata": {
        "id": "aC5fnEqsVtsm",
        "colab_type": "text"
      },
      "source": [
        "Мы отфильтровали данные, убрали 0,13% данных, что немного и не окажет влияние на исследование. Причиной выбросов могут быть неполные данные, нужны данные за больший временной период."
      ]
    },
    {
      "cell_type": "code",
      "metadata": {
        "id": "DZeg3hKkW1Kh",
        "colab_type": "code",
        "colab": {
          "base_uri": "https://localhost:8080/",
          "height": 287
        },
        "outputId": "daee219f-941a-4853-a968-1affcea7872e"
      },
      "source": [
        "df_new_filtered.describe()"
      ],
      "execution_count": 35,
      "outputs": [
        {
          "output_type": "execute_result",
          "data": {
            "text/html": [
              "<div>\n",
              "<style scoped>\n",
              "    .dataframe tbody tr th:only-of-type {\n",
              "        vertical-align: middle;\n",
              "    }\n",
              "\n",
              "    .dataframe tbody tr th {\n",
              "        vertical-align: top;\n",
              "    }\n",
              "\n",
              "    .dataframe thead th {\n",
              "        text-align: right;\n",
              "    }\n",
              "</style>\n",
              "<table border=\"1\" class=\"dataframe\">\n",
              "  <thead>\n",
              "    <tr style=\"text-align: right;\">\n",
              "      <th></th>\n",
              "      <th>quantity</th>\n",
              "      <th>loyalty_program</th>\n",
              "      <th>price_per_id</th>\n",
              "      <th>purchase_week</th>\n",
              "      <th>purchase_month</th>\n",
              "      <th>sum</th>\n",
              "    </tr>\n",
              "  </thead>\n",
              "  <tbody>\n",
              "    <tr>\n",
              "      <th>count</th>\n",
              "      <td>104165.000000</td>\n",
              "      <td>104165.000000</td>\n",
              "      <td>104165.000000</td>\n",
              "      <td>104165.000000</td>\n",
              "      <td>104165.000000</td>\n",
              "      <td>104165.000000</td>\n",
              "    </tr>\n",
              "    <tr>\n",
              "      <th>mean</th>\n",
              "      <td>7.169145</td>\n",
              "      <td>0.224308</td>\n",
              "      <td>4.657155</td>\n",
              "      <td>22.573936</td>\n",
              "      <td>5.688245</td>\n",
              "      <td>19.299379</td>\n",
              "    </tr>\n",
              "    <tr>\n",
              "      <th>std</th>\n",
              "      <td>20.910237</td>\n",
              "      <td>0.417128</td>\n",
              "      <td>23.057179</td>\n",
              "      <td>22.055223</td>\n",
              "      <td>5.192219</td>\n",
              "      <td>58.126195</td>\n",
              "    </tr>\n",
              "    <tr>\n",
              "      <th>min</th>\n",
              "      <td>-235.000000</td>\n",
              "      <td>0.000000</td>\n",
              "      <td>0.000000</td>\n",
              "      <td>1.000000</td>\n",
              "      <td>1.000000</td>\n",
              "      <td>-967.505000</td>\n",
              "    </tr>\n",
              "    <tr>\n",
              "      <th>25%</th>\n",
              "      <td>0.000000</td>\n",
              "      <td>0.000000</td>\n",
              "      <td>1.650000</td>\n",
              "      <td>4.000000</td>\n",
              "      <td>1.000000</td>\n",
              "      <td>0.000000</td>\n",
              "    </tr>\n",
              "    <tr>\n",
              "      <th>50%</th>\n",
              "      <td>2.000000</td>\n",
              "      <td>0.000000</td>\n",
              "      <td>2.975000</td>\n",
              "      <td>7.000000</td>\n",
              "      <td>2.000000</td>\n",
              "      <td>5.850000</td>\n",
              "    </tr>\n",
              "    <tr>\n",
              "      <th>75%</th>\n",
              "      <td>7.000000</td>\n",
              "      <td>0.000000</td>\n",
              "      <td>5.205000</td>\n",
              "      <td>49.000000</td>\n",
              "      <td>12.000000</td>\n",
              "      <td>18.775000</td>\n",
              "    </tr>\n",
              "    <tr>\n",
              "      <th>max</th>\n",
              "      <td>479.000000</td>\n",
              "      <td>1.000000</td>\n",
              "      <td>6706.710000</td>\n",
              "      <td>51.000000</td>\n",
              "      <td>12.000000</td>\n",
              "      <td>1462.160000</td>\n",
              "    </tr>\n",
              "  </tbody>\n",
              "</table>\n",
              "</div>"
            ],
            "text/plain": [
              "            quantity  loyalty_program  ...  purchase_month            sum\n",
              "count  104165.000000    104165.000000  ...   104165.000000  104165.000000\n",
              "mean        7.169145         0.224308  ...        5.688245      19.299379\n",
              "std        20.910237         0.417128  ...        5.192219      58.126195\n",
              "min      -235.000000         0.000000  ...        1.000000    -967.505000\n",
              "25%         0.000000         0.000000  ...        1.000000       0.000000\n",
              "50%         2.000000         0.000000  ...        2.000000       5.850000\n",
              "75%         7.000000         0.000000  ...       12.000000      18.775000\n",
              "max       479.000000         1.000000  ...       12.000000    1462.160000\n",
              "\n",
              "[8 rows x 6 columns]"
            ]
          },
          "metadata": {
            "tags": []
          },
          "execution_count": 35
        }
      ]
    },
    {
      "cell_type": "markdown",
      "metadata": {
        "id": "d4PEbcaz8HEX",
        "colab_type": "text"
      },
      "source": [
        "В программе лояльность участвуют 22%, количество покупок остаются со знаком минус, сильный разброс, цена за единицу товара - сильный разбром, несмотря на замену на медианное значение. Есть разные категории товаров в разном ценовом диапазоне. "
      ]
    },
    {
      "cell_type": "markdown",
      "metadata": {
        "id": "uidtk4DB_B8A",
        "colab_type": "text"
      },
      "source": [
        "Количество покупателей по неделям"
      ]
    },
    {
      "cell_type": "code",
      "metadata": {
        "id": "CEobce52Azlj",
        "colab_type": "code",
        "colab": {
          "base_uri": "https://localhost:8080/",
          "height": 464
        },
        "outputId": "fb5a657c-8fa7-4acb-818a-bed34120e653"
      },
      "source": [
        "df_new.\\\n",
        "groupby(['purchase_week', 'purchase_month'])[['purchase_id']].\\\n",
        "agg('nunique').plot(figsize = (12,6))\n",
        "plt.xticks(rotation = 75)\n",
        "plt.title('Количество покупателей',fontsize=18)\n",
        "plt.ylabel('Количество',fontsize=18)\n",
        "plt.xlabel('Неделя/Месяц',fontsize=18 )"
      ],
      "execution_count": 36,
      "outputs": [
        {
          "output_type": "execute_result",
          "data": {
            "text/plain": [
              "Text(0.5, 0, 'Неделя/Месяц')"
            ]
          },
          "metadata": {
            "tags": []
          },
          "execution_count": 36
        },
        {
          "output_type": "display_data",
          "data": {
            "image/png": "[encoded data removed]",
            "text/plain": [
              "<Figure size 864x432 with 1 Axes>"
            ]
          },
          "metadata": {
            "tags": [],
            "needs_background": "light"
          }
        }
      ]
    },
    {
      "cell_type": "markdown",
      "metadata": {
        "id": "8JgxAJUyZzh3",
        "colab_type": "text"
      },
      "source": [
        "Количество покупателей повышается в 48 и 50 недели, данные в новогодние праздники отсутствуют, в первую неделю года количество покупателей снижается."
      ]
    },
    {
      "cell_type": "markdown",
      "metadata": {
        "id": "rJghmDOYcRDM",
        "colab_type": "text"
      },
      "source": [
        "#Анализ бизнес-показателей <p id = \"4\"> </p>"
      ]
    },
    {
      "cell_type": "markdown",
      "metadata": {
        "id": "Et2K6peea9tO",
        "colab_type": "text"
      },
      "source": [
        "Сгруппируем данные по торговым точкам и рассчитаем средний чек, среднее количество товаров в чеке"
      ]
    },
    {
      "cell_type": "code",
      "metadata": {
        "id": "c1FzSfdjLJe5",
        "colab_type": "code",
        "colab": {
          "base_uri": "https://localhost:8080/",
          "height": 977
        },
        "outputId": "e6d2b940-b629-4c11-80d2-0760a9566f73"
      },
      "source": [
        "df_grouped = (df_new_filtered     \n",
        ".groupby('shop_id')                                                            #группировка по магазинам\n",
        ".agg(\n",
        "    {'sum' : 'sum',                                                             #общая выручка\n",
        "     'quantity' : 'sum',                                                        #общее количество проданного товара\n",
        "     'purchase_id' : 'nunique',                                                 #количество уникальных чеков (покупателей)\n",
        "     'item_id' : 'nunique',                                                     #количество уникальных товаров\n",
        "     'loyalty_program' : 'mean',                                                #среднее значение программы лояльность (процент покупателей с картой)\n",
        "     'price_per_id' : 'median'}                                                 #медианное значение цены всех товаров\n",
        "     )\n",
        ".assign(avg_check = lambda x: x['sum'] / x['purchase_id'])                      #новый столбец средний чек\n",
        ".assign(avg_quantity = lambda x: x['quantity'] / x['purchase_id'])              #новый столбец среднее количество товара в чеке\n",
        ".reset_index())             \n",
        "df_grouped"
      ],
      "execution_count": 37,
      "outputs": [
        {
          "output_type": "execute_result",
          "data": {
            "text/html": [
              "<div>\n",
              "<style scoped>\n",
              "    .dataframe tbody tr th:only-of-type {\n",
              "        vertical-align: middle;\n",
              "    }\n",
              "\n",
              "    .dataframe tbody tr th {\n",
              "        vertical-align: top;\n",
              "    }\n",
              "\n",
              "    .dataframe thead th {\n",
              "        text-align: right;\n",
              "    }\n",
              "</style>\n",
              "<table border=\"1\" class=\"dataframe\">\n",
              "  <thead>\n",
              "    <tr style=\"text-align: right;\">\n",
              "      <th></th>\n",
              "      <th>shop_id</th>\n",
              "      <th>sum</th>\n",
              "      <th>quantity</th>\n",
              "      <th>purchase_id</th>\n",
              "      <th>item_id</th>\n",
              "      <th>loyalty_program</th>\n",
              "      <th>price_per_id</th>\n",
              "      <th>avg_check</th>\n",
              "      <th>avg_quantity</th>\n",
              "    </tr>\n",
              "  </thead>\n",
              "  <tbody>\n",
              "    <tr>\n",
              "      <th>0</th>\n",
              "      <td>Shop 0</td>\n",
              "      <td>1606026.070</td>\n",
              "      <td>594111</td>\n",
              "      <td>4411</td>\n",
              "      <td>3144</td>\n",
              "      <td>0.241327</td>\n",
              "      <td>2.9500</td>\n",
              "      <td>364.095686</td>\n",
              "      <td>134.688506</td>\n",
              "    </tr>\n",
              "    <tr>\n",
              "      <th>1</th>\n",
              "      <td>Shop 1</td>\n",
              "      <td>46119.030</td>\n",
              "      <td>17319</td>\n",
              "      <td>90</td>\n",
              "      <td>588</td>\n",
              "      <td>0.000000</td>\n",
              "      <td>2.9500</td>\n",
              "      <td>512.433667</td>\n",
              "      <td>192.433333</td>\n",
              "    </tr>\n",
              "    <tr>\n",
              "      <th>2</th>\n",
              "      <td>Shop 10</td>\n",
              "      <td>9949.380</td>\n",
              "      <td>3282</td>\n",
              "      <td>15</td>\n",
              "      <td>202</td>\n",
              "      <td>0.000000</td>\n",
              "      <td>3.7550</td>\n",
              "      <td>663.292000</td>\n",
              "      <td>218.800000</td>\n",
              "    </tr>\n",
              "    <tr>\n",
              "      <th>3</th>\n",
              "      <td>Shop 11</td>\n",
              "      <td>4023.410</td>\n",
              "      <td>1330</td>\n",
              "      <td>10</td>\n",
              "      <td>153</td>\n",
              "      <td>0.000000</td>\n",
              "      <td>3.2900</td>\n",
              "      <td>402.341000</td>\n",
              "      <td>133.000000</td>\n",
              "    </tr>\n",
              "    <tr>\n",
              "      <th>4</th>\n",
              "      <td>Shop 12</td>\n",
              "      <td>6813.930</td>\n",
              "      <td>3357</td>\n",
              "      <td>21</td>\n",
              "      <td>186</td>\n",
              "      <td>0.000000</td>\n",
              "      <td>2.7200</td>\n",
              "      <td>324.472857</td>\n",
              "      <td>159.857143</td>\n",
              "    </tr>\n",
              "    <tr>\n",
              "      <th>5</th>\n",
              "      <td>Shop 13</td>\n",
              "      <td>2410.330</td>\n",
              "      <td>617</td>\n",
              "      <td>4</td>\n",
              "      <td>29</td>\n",
              "      <td>0.000000</td>\n",
              "      <td>4.3700</td>\n",
              "      <td>602.582500</td>\n",
              "      <td>154.250000</td>\n",
              "    </tr>\n",
              "    <tr>\n",
              "      <th>6</th>\n",
              "      <td>Shop 14</td>\n",
              "      <td>15893.055</td>\n",
              "      <td>5406</td>\n",
              "      <td>5</td>\n",
              "      <td>114</td>\n",
              "      <td>0.000000</td>\n",
              "      <td>2.4700</td>\n",
              "      <td>3178.611000</td>\n",
              "      <td>1081.200000</td>\n",
              "    </tr>\n",
              "    <tr>\n",
              "      <th>7</th>\n",
              "      <td>Shop 15</td>\n",
              "      <td>1736.520</td>\n",
              "      <td>574</td>\n",
              "      <td>2</td>\n",
              "      <td>49</td>\n",
              "      <td>0.000000</td>\n",
              "      <td>3.9500</td>\n",
              "      <td>868.260000</td>\n",
              "      <td>287.000000</td>\n",
              "    </tr>\n",
              "    <tr>\n",
              "      <th>8</th>\n",
              "      <td>Shop 16</td>\n",
              "      <td>3828.300</td>\n",
              "      <td>1211</td>\n",
              "      <td>4</td>\n",
              "      <td>57</td>\n",
              "      <td>0.000000</td>\n",
              "      <td>6.2700</td>\n",
              "      <td>957.075000</td>\n",
              "      <td>302.750000</td>\n",
              "    </tr>\n",
              "    <tr>\n",
              "      <th>9</th>\n",
              "      <td>Shop 17</td>\n",
              "      <td>2236.450</td>\n",
              "      <td>638</td>\n",
              "      <td>2</td>\n",
              "      <td>38</td>\n",
              "      <td>0.000000</td>\n",
              "      <td>4.2100</td>\n",
              "      <td>1118.225000</td>\n",
              "      <td>319.000000</td>\n",
              "    </tr>\n",
              "    <tr>\n",
              "      <th>10</th>\n",
              "      <td>Shop 18</td>\n",
              "      <td>6631.165</td>\n",
              "      <td>2995</td>\n",
              "      <td>9</td>\n",
              "      <td>229</td>\n",
              "      <td>0.000000</td>\n",
              "      <td>3.7500</td>\n",
              "      <td>736.796111</td>\n",
              "      <td>332.777778</td>\n",
              "    </tr>\n",
              "    <tr>\n",
              "      <th>11</th>\n",
              "      <td>Shop 19</td>\n",
              "      <td>10451.600</td>\n",
              "      <td>6077</td>\n",
              "      <td>6</td>\n",
              "      <td>60</td>\n",
              "      <td>0.633803</td>\n",
              "      <td>1.9500</td>\n",
              "      <td>1741.933333</td>\n",
              "      <td>1012.833333</td>\n",
              "    </tr>\n",
              "    <tr>\n",
              "      <th>12</th>\n",
              "      <td>Shop 2</td>\n",
              "      <td>36820.295</td>\n",
              "      <td>13681</td>\n",
              "      <td>19</td>\n",
              "      <td>201</td>\n",
              "      <td>0.000000</td>\n",
              "      <td>3.2900</td>\n",
              "      <td>1937.910263</td>\n",
              "      <td>720.052632</td>\n",
              "    </tr>\n",
              "    <tr>\n",
              "      <th>13</th>\n",
              "      <td>Shop 20</td>\n",
              "      <td>988.945</td>\n",
              "      <td>315</td>\n",
              "      <td>4</td>\n",
              "      <td>28</td>\n",
              "      <td>0.000000</td>\n",
              "      <td>3.7100</td>\n",
              "      <td>247.236250</td>\n",
              "      <td>78.750000</td>\n",
              "    </tr>\n",
              "    <tr>\n",
              "      <th>14</th>\n",
              "      <td>Shop 21</td>\n",
              "      <td>1349.250</td>\n",
              "      <td>298</td>\n",
              "      <td>3</td>\n",
              "      <td>32</td>\n",
              "      <td>0.000000</td>\n",
              "      <td>3.7400</td>\n",
              "      <td>449.750000</td>\n",
              "      <td>99.333333</td>\n",
              "    </tr>\n",
              "    <tr>\n",
              "      <th>15</th>\n",
              "      <td>Shop 22</td>\n",
              "      <td>3003.470</td>\n",
              "      <td>2120</td>\n",
              "      <td>4</td>\n",
              "      <td>33</td>\n",
              "      <td>0.000000</td>\n",
              "      <td>1.6300</td>\n",
              "      <td>750.867500</td>\n",
              "      <td>530.000000</td>\n",
              "    </tr>\n",
              "    <tr>\n",
              "      <th>16</th>\n",
              "      <td>Shop 23</td>\n",
              "      <td>-8.500</td>\n",
              "      <td>-2</td>\n",
              "      <td>2</td>\n",
              "      <td>1</td>\n",
              "      <td>0.000000</td>\n",
              "      <td>4.2500</td>\n",
              "      <td>-4.250000</td>\n",
              "      <td>-1.000000</td>\n",
              "    </tr>\n",
              "    <tr>\n",
              "      <th>17</th>\n",
              "      <td>Shop 24</td>\n",
              "      <td>3984.625</td>\n",
              "      <td>494</td>\n",
              "      <td>1</td>\n",
              "      <td>32</td>\n",
              "      <td>0.000000</td>\n",
              "      <td>11.0400</td>\n",
              "      <td>3984.625000</td>\n",
              "      <td>494.000000</td>\n",
              "    </tr>\n",
              "    <tr>\n",
              "      <th>18</th>\n",
              "      <td>Shop 25</td>\n",
              "      <td>3234.265</td>\n",
              "      <td>1008</td>\n",
              "      <td>1</td>\n",
              "      <td>47</td>\n",
              "      <td>0.000000</td>\n",
              "      <td>3.1150</td>\n",
              "      <td>3234.265000</td>\n",
              "      <td>1008.000000</td>\n",
              "    </tr>\n",
              "    <tr>\n",
              "      <th>19</th>\n",
              "      <td>Shop 26</td>\n",
              "      <td>2775.590</td>\n",
              "      <td>1035</td>\n",
              "      <td>1</td>\n",
              "      <td>56</td>\n",
              "      <td>0.000000</td>\n",
              "      <td>2.7500</td>\n",
              "      <td>2775.590000</td>\n",
              "      <td>1035.000000</td>\n",
              "    </tr>\n",
              "    <tr>\n",
              "      <th>20</th>\n",
              "      <td>Shop 27</td>\n",
              "      <td>2095.470</td>\n",
              "      <td>341</td>\n",
              "      <td>1</td>\n",
              "      <td>45</td>\n",
              "      <td>0.000000</td>\n",
              "      <td>6.1200</td>\n",
              "      <td>2095.470000</td>\n",
              "      <td>341.000000</td>\n",
              "    </tr>\n",
              "    <tr>\n",
              "      <th>21</th>\n",
              "      <td>Shop 28</td>\n",
              "      <td>1621.895</td>\n",
              "      <td>466</td>\n",
              "      <td>1</td>\n",
              "      <td>30</td>\n",
              "      <td>1.000000</td>\n",
              "      <td>2.5125</td>\n",
              "      <td>1621.895000</td>\n",
              "      <td>466.000000</td>\n",
              "    </tr>\n",
              "    <tr>\n",
              "      <th>22</th>\n",
              "      <td>Shop 29</td>\n",
              "      <td>207.715</td>\n",
              "      <td>71</td>\n",
              "      <td>1</td>\n",
              "      <td>9</td>\n",
              "      <td>0.000000</td>\n",
              "      <td>2.9500</td>\n",
              "      <td>207.715000</td>\n",
              "      <td>71.000000</td>\n",
              "    </tr>\n",
              "    <tr>\n",
              "      <th>23</th>\n",
              "      <td>Shop 3</td>\n",
              "      <td>100164.715</td>\n",
              "      <td>41657</td>\n",
              "      <td>15</td>\n",
              "      <td>296</td>\n",
              "      <td>0.000000</td>\n",
              "      <td>2.4700</td>\n",
              "      <td>6677.647667</td>\n",
              "      <td>2777.133333</td>\n",
              "    </tr>\n",
              "    <tr>\n",
              "      <th>24</th>\n",
              "      <td>Shop 30</td>\n",
              "      <td>743.530</td>\n",
              "      <td>331</td>\n",
              "      <td>1</td>\n",
              "      <td>15</td>\n",
              "      <td>0.000000</td>\n",
              "      <td>1.8550</td>\n",
              "      <td>743.530000</td>\n",
              "      <td>331.000000</td>\n",
              "    </tr>\n",
              "    <tr>\n",
              "      <th>25</th>\n",
              "      <td>Shop 4</td>\n",
              "      <td>50533.035</td>\n",
              "      <td>17937</td>\n",
              "      <td>114</td>\n",
              "      <td>703</td>\n",
              "      <td>0.000000</td>\n",
              "      <td>3.1150</td>\n",
              "      <td>443.272237</td>\n",
              "      <td>157.342105</td>\n",
              "    </tr>\n",
              "    <tr>\n",
              "      <th>26</th>\n",
              "      <td>Shop 5</td>\n",
              "      <td>6202.610</td>\n",
              "      <td>3698</td>\n",
              "      <td>4</td>\n",
              "      <td>109</td>\n",
              "      <td>0.000000</td>\n",
              "      <td>1.9750</td>\n",
              "      <td>1550.652500</td>\n",
              "      <td>924.500000</td>\n",
              "    </tr>\n",
              "    <tr>\n",
              "      <th>27</th>\n",
              "      <td>Shop 6</td>\n",
              "      <td>51947.615</td>\n",
              "      <td>16592</td>\n",
              "      <td>46</td>\n",
              "      <td>644</td>\n",
              "      <td>0.000000</td>\n",
              "      <td>3.3250</td>\n",
              "      <td>1129.295978</td>\n",
              "      <td>360.695652</td>\n",
              "    </tr>\n",
              "    <tr>\n",
              "      <th>28</th>\n",
              "      <td>Shop 7</td>\n",
              "      <td>11233.930</td>\n",
              "      <td>4500</td>\n",
              "      <td>11</td>\n",
              "      <td>256</td>\n",
              "      <td>0.000000</td>\n",
              "      <td>2.9500</td>\n",
              "      <td>1021.266364</td>\n",
              "      <td>409.090909</td>\n",
              "    </tr>\n",
              "    <tr>\n",
              "      <th>29</th>\n",
              "      <td>Shop 8</td>\n",
              "      <td>14887.030</td>\n",
              "      <td>4651</td>\n",
              "      <td>20</td>\n",
              "      <td>388</td>\n",
              "      <td>0.112701</td>\n",
              "      <td>3.3600</td>\n",
              "      <td>744.351500</td>\n",
              "      <td>232.550000</td>\n",
              "    </tr>\n",
              "    <tr>\n",
              "      <th>30</th>\n",
              "      <td>Shop 9</td>\n",
              "      <td>2415.115</td>\n",
              "      <td>664</td>\n",
              "      <td>4</td>\n",
              "      <td>54</td>\n",
              "      <td>0.000000</td>\n",
              "      <td>3.1150</td>\n",
              "      <td>603.778750</td>\n",
              "      <td>166.000000</td>\n",
              "    </tr>\n",
              "  </tbody>\n",
              "</table>\n",
              "</div>"
            ],
            "text/plain": [
              "    shop_id          sum  quantity  ...  price_per_id    avg_check  avg_quantity\n",
              "0    Shop 0  1606026.070    594111  ...        2.9500   364.095686    134.688506\n",
              "1    Shop 1    46119.030     17319  ...        2.9500   512.433667    192.433333\n",
              "2   Shop 10     9949.380      3282  ...        3.7550   663.292000    218.800000\n",
              "3   Shop 11     4023.410      1330  ...        3.2900   402.341000    133.000000\n",
              "4   Shop 12     6813.930      3357  ...        2.7200   324.472857    159.857143\n",
              "5   Shop 13     2410.330       617  ...        4.3700   602.582500    154.250000\n",
              "6   Shop 14    15893.055      5406  ...        2.4700  3178.611000   1081.200000\n",
              "7   Shop 15     1736.520       574  ...        3.9500   868.260000    287.000000\n",
              "8   Shop 16     3828.300      1211  ...        6.2700   957.075000    302.750000\n",
              "9   Shop 17     2236.450       638  ...        4.2100  1118.225000    319.000000\n",
              "10  Shop 18     6631.165      2995  ...        3.7500   736.796111    332.777778\n",
              "11  Shop 19    10451.600      6077  ...        1.9500  1741.933333   1012.833333\n",
              "12   Shop 2    36820.295     13681  ...        3.2900  1937.910263    720.052632\n",
              "13  Shop 20      988.945       315  ...        3.7100   247.236250     78.750000\n",
              "14  Shop 21     1349.250       298  ...        3.7400   449.750000     99.333333\n",
              "15  Shop 22     3003.470      2120  ...        1.6300   750.867500    530.000000\n",
              "16  Shop 23       -8.500        -2  ...        4.2500    -4.250000     -1.000000\n",
              "17  Shop 24     3984.625       494  ...       11.0400  3984.625000    494.000000\n",
              "18  Shop 25     3234.265      1008  ...        3.1150  3234.265000   1008.000000\n",
              "19  Shop 26     2775.590      1035  ...        2.7500  2775.590000   1035.000000\n",
              "20  Shop 27     2095.470       341  ...        6.1200  2095.470000    341.000000\n",
              "21  Shop 28     1621.895       466  ...        2.5125  1621.895000    466.000000\n",
              "22  Shop 29      207.715        71  ...        2.9500   207.715000     71.000000\n",
              "23   Shop 3   100164.715     41657  ...        2.4700  6677.647667   2777.133333\n",
              "24  Shop 30      743.530       331  ...        1.8550   743.530000    331.000000\n",
              "25   Shop 4    50533.035     17937  ...        3.1150   443.272237    157.342105\n",
              "26   Shop 5     6202.610      3698  ...        1.9750  1550.652500    924.500000\n",
              "27   Shop 6    51947.615     16592  ...        3.3250  1129.295978    360.695652\n",
              "28   Shop 7    11233.930      4500  ...        2.9500  1021.266364    409.090909\n",
              "29   Shop 8    14887.030      4651  ...        3.3600   744.351500    232.550000\n",
              "30   Shop 9     2415.115       664  ...        3.1150   603.778750    166.000000\n",
              "\n",
              "[31 rows x 9 columns]"
            ]
          },
          "metadata": {
            "tags": []
          },
          "execution_count": 37
        }
      ]
    },
    {
      "cell_type": "code",
      "metadata": {
        "id": "XqmpR-cUlz_a",
        "colab_type": "code",
        "colab": {
          "base_uri": "https://localhost:8080/",
          "height": 287
        },
        "outputId": "937c726f-2ff8-4697-ee55-939ec01cb786"
      },
      "source": [
        "df_grouped.describe()"
      ],
      "execution_count": 38,
      "outputs": [
        {
          "output_type": "execute_result",
          "data": {
            "text/html": [
              "<div>\n",
              "<style scoped>\n",
              "    .dataframe tbody tr th:only-of-type {\n",
              "        vertical-align: middle;\n",
              "    }\n",
              "\n",
              "    .dataframe tbody tr th {\n",
              "        vertical-align: top;\n",
              "    }\n",
              "\n",
              "    .dataframe thead th {\n",
              "        text-align: right;\n",
              "    }\n",
              "</style>\n",
              "<table border=\"1\" class=\"dataframe\">\n",
              "  <thead>\n",
              "    <tr style=\"text-align: right;\">\n",
              "      <th></th>\n",
              "      <th>sum</th>\n",
              "      <th>quantity</th>\n",
              "      <th>purchase_id</th>\n",
              "      <th>item_id</th>\n",
              "      <th>loyalty_program</th>\n",
              "      <th>price_per_id</th>\n",
              "      <th>avg_check</th>\n",
              "      <th>avg_quantity</th>\n",
              "    </tr>\n",
              "  </thead>\n",
              "  <tbody>\n",
              "    <tr>\n",
              "      <th>count</th>\n",
              "      <td>3.100000e+01</td>\n",
              "      <td>31.000000</td>\n",
              "      <td>31.000000</td>\n",
              "      <td>31.000000</td>\n",
              "      <td>31.000000</td>\n",
              "      <td>31.000000</td>\n",
              "      <td>31.000000</td>\n",
              "      <td>31.000000</td>\n",
              "    </tr>\n",
              "    <tr>\n",
              "      <th>mean</th>\n",
              "      <td>6.484903e+04</td>\n",
              "      <td>24089.483871</td>\n",
              "      <td>155.870968</td>\n",
              "      <td>252.516129</td>\n",
              "      <td>0.064124</td>\n",
              "      <td>3.545403</td>\n",
              "      <td>1344.677005</td>\n",
              "      <td>468.678647</td>\n",
              "    </tr>\n",
              "    <tr>\n",
              "      <th>std</th>\n",
              "      <td>2.868659e+05</td>\n",
              "      <td>106138.731823</td>\n",
              "      <td>790.128755</td>\n",
              "      <td>568.914221</td>\n",
              "      <td>0.211753</td>\n",
              "      <td>1.737548</td>\n",
              "      <td>1398.622348</td>\n",
              "      <td>532.535224</td>\n",
              "    </tr>\n",
              "    <tr>\n",
              "      <th>min</th>\n",
              "      <td>-8.500000e+00</td>\n",
              "      <td>-2.000000</td>\n",
              "      <td>1.000000</td>\n",
              "      <td>1.000000</td>\n",
              "      <td>0.000000</td>\n",
              "      <td>1.630000</td>\n",
              "      <td>-4.250000</td>\n",
              "      <td>-1.000000</td>\n",
              "    </tr>\n",
              "    <tr>\n",
              "      <th>25%</th>\n",
              "      <td>2.165960e+03</td>\n",
              "      <td>534.000000</td>\n",
              "      <td>2.000000</td>\n",
              "      <td>32.500000</td>\n",
              "      <td>0.000000</td>\n",
              "      <td>2.735000</td>\n",
              "      <td>481.091833</td>\n",
              "      <td>158.599624</td>\n",
              "    </tr>\n",
              "    <tr>\n",
              "      <th>50%</th>\n",
              "      <td>3.984625e+03</td>\n",
              "      <td>1330.000000</td>\n",
              "      <td>4.000000</td>\n",
              "      <td>57.000000</td>\n",
              "      <td>0.000000</td>\n",
              "      <td>3.115000</td>\n",
              "      <td>750.867500</td>\n",
              "      <td>319.000000</td>\n",
              "    </tr>\n",
              "    <tr>\n",
              "      <th>75%</th>\n",
              "      <td>1.306048e+04</td>\n",
              "      <td>5028.500000</td>\n",
              "      <td>15.000000</td>\n",
              "      <td>215.500000</td>\n",
              "      <td>0.000000</td>\n",
              "      <td>3.752500</td>\n",
              "      <td>1681.914167</td>\n",
              "      <td>512.000000</td>\n",
              "    </tr>\n",
              "    <tr>\n",
              "      <th>max</th>\n",
              "      <td>1.606026e+06</td>\n",
              "      <td>594111.000000</td>\n",
              "      <td>4411.000000</td>\n",
              "      <td>3144.000000</td>\n",
              "      <td>1.000000</td>\n",
              "      <td>11.040000</td>\n",
              "      <td>6677.647667</td>\n",
              "      <td>2777.133333</td>\n",
              "    </tr>\n",
              "  </tbody>\n",
              "</table>\n",
              "</div>"
            ],
            "text/plain": [
              "                sum       quantity  ...    avg_check  avg_quantity\n",
              "count  3.100000e+01      31.000000  ...    31.000000     31.000000\n",
              "mean   6.484903e+04   24089.483871  ...  1344.677005    468.678647\n",
              "std    2.868659e+05  106138.731823  ...  1398.622348    532.535224\n",
              "min   -8.500000e+00      -2.000000  ...    -4.250000     -1.000000\n",
              "25%    2.165960e+03     534.000000  ...   481.091833    158.599624\n",
              "50%    3.984625e+03    1330.000000  ...   750.867500    319.000000\n",
              "75%    1.306048e+04    5028.500000  ...  1681.914167    512.000000\n",
              "max    1.606026e+06  594111.000000  ...  6677.647667   2777.133333\n",
              "\n",
              "[8 rows x 8 columns]"
            ]
          },
          "metadata": {
            "tags": []
          },
          "execution_count": 38
        }
      ]
    },
    {
      "cell_type": "markdown",
      "metadata": {
        "id": "B64_1JfHNDA7",
        "colab_type": "text"
      },
      "source": [
        "Shop 0 показывает самую большую выручку, самый большой ассортимент, похоже на склад, покажем график без него"
      ]
    },
    {
      "cell_type": "code",
      "metadata": {
        "id": "IV-55EebKnAe",
        "colab_type": "code",
        "colab": {
          "base_uri": "https://localhost:8080/",
          "height": 555
        },
        "outputId": "31a2eb1f-e33a-4bdd-e57d-f515488fae38"
      },
      "source": [
        "\n",
        "df_grouped[~df_grouped['shop_id'].isin(['Shop 0'])].\\\n",
        "plot(x = 'shop_id', y = ['sum'], figsize =(20,7), kind= 'bar', grid=True)\n",
        "plt.title('Суммарная выручка',fontsize=20)\n",
        "plt.xticks(fontsize=18, rotation = 75)\n",
        "plt.ylabel('Значение',fontsize=18)\n",
        "plt.xlabel('Номер точки',fontsize=18 )"
      ],
      "execution_count": 39,
      "outputs": [
        {
          "output_type": "execute_result",
          "data": {
            "text/plain": [
              "Text(0.5, 0, 'Номер точки')"
            ]
          },
          "metadata": {
            "tags": []
          },
          "execution_count": 39
        },
        {
          "output_type": "display_data",
          "data": {
            "image/png": "[encoded data removed]",
            "text/plain": [
              "<Figure size 1440x504 with 1 Axes>"
            ]
          },
          "metadata": {
            "tags": [],
            "needs_background": "light"
          }
        }
      ]
    },
    {
      "cell_type": "markdown",
      "metadata": {
        "id": "xlqQ7zuLrBdV",
        "colab_type": "text"
      },
      "source": [
        "Следующие магазины с самой высокой выручкой"
      ]
    },
    {
      "cell_type": "code",
      "metadata": {
        "id": "5D3n7n-Lo9jN",
        "colab_type": "code",
        "colab": {
          "base_uri": "https://localhost:8080/",
          "height": 197
        },
        "outputId": "213bdd62-169e-424d-f06c-c8136fce14f8"
      },
      "source": [
        "df_grouped[~df_grouped['shop_id'].isin(['Shop 0'])].\\\n",
        "sort_values(by = 'sum' , ascending = False).\\\n",
        "head()"
      ],
      "execution_count": 40,
      "outputs": [
        {
          "output_type": "execute_result",
          "data": {
            "text/html": [
              "<div>\n",
              "<style scoped>\n",
              "    .dataframe tbody tr th:only-of-type {\n",
              "        vertical-align: middle;\n",
              "    }\n",
              "\n",
              "    .dataframe tbody tr th {\n",
              "        vertical-align: top;\n",
              "    }\n",
              "\n",
              "    .dataframe thead th {\n",
              "        text-align: right;\n",
              "    }\n",
              "</style>\n",
              "<table border=\"1\" class=\"dataframe\">\n",
              "  <thead>\n",
              "    <tr style=\"text-align: right;\">\n",
              "      <th></th>\n",
              "      <th>shop_id</th>\n",
              "      <th>sum</th>\n",
              "      <th>quantity</th>\n",
              "      <th>purchase_id</th>\n",
              "      <th>item_id</th>\n",
              "      <th>loyalty_program</th>\n",
              "      <th>price_per_id</th>\n",
              "      <th>avg_check</th>\n",
              "      <th>avg_quantity</th>\n",
              "    </tr>\n",
              "  </thead>\n",
              "  <tbody>\n",
              "    <tr>\n",
              "      <th>23</th>\n",
              "      <td>Shop 3</td>\n",
              "      <td>100164.715</td>\n",
              "      <td>41657</td>\n",
              "      <td>15</td>\n",
              "      <td>296</td>\n",
              "      <td>0.0</td>\n",
              "      <td>2.470</td>\n",
              "      <td>6677.647667</td>\n",
              "      <td>2777.133333</td>\n",
              "    </tr>\n",
              "    <tr>\n",
              "      <th>27</th>\n",
              "      <td>Shop 6</td>\n",
              "      <td>51947.615</td>\n",
              "      <td>16592</td>\n",
              "      <td>46</td>\n",
              "      <td>644</td>\n",
              "      <td>0.0</td>\n",
              "      <td>3.325</td>\n",
              "      <td>1129.295978</td>\n",
              "      <td>360.695652</td>\n",
              "    </tr>\n",
              "    <tr>\n",
              "      <th>25</th>\n",
              "      <td>Shop 4</td>\n",
              "      <td>50533.035</td>\n",
              "      <td>17937</td>\n",
              "      <td>114</td>\n",
              "      <td>703</td>\n",
              "      <td>0.0</td>\n",
              "      <td>3.115</td>\n",
              "      <td>443.272237</td>\n",
              "      <td>157.342105</td>\n",
              "    </tr>\n",
              "    <tr>\n",
              "      <th>1</th>\n",
              "      <td>Shop 1</td>\n",
              "      <td>46119.030</td>\n",
              "      <td>17319</td>\n",
              "      <td>90</td>\n",
              "      <td>588</td>\n",
              "      <td>0.0</td>\n",
              "      <td>2.950</td>\n",
              "      <td>512.433667</td>\n",
              "      <td>192.433333</td>\n",
              "    </tr>\n",
              "    <tr>\n",
              "      <th>12</th>\n",
              "      <td>Shop 2</td>\n",
              "      <td>36820.295</td>\n",
              "      <td>13681</td>\n",
              "      <td>19</td>\n",
              "      <td>201</td>\n",
              "      <td>0.0</td>\n",
              "      <td>3.290</td>\n",
              "      <td>1937.910263</td>\n",
              "      <td>720.052632</td>\n",
              "    </tr>\n",
              "  </tbody>\n",
              "</table>\n",
              "</div>"
            ],
            "text/plain": [
              "   shop_id         sum  quantity  ...  price_per_id    avg_check  avg_quantity\n",
              "23  Shop 3  100164.715     41657  ...         2.470  6677.647667   2777.133333\n",
              "27  Shop 6   51947.615     16592  ...         3.325  1129.295978    360.695652\n",
              "25  Shop 4   50533.035     17937  ...         3.115   443.272237    157.342105\n",
              "1   Shop 1   46119.030     17319  ...         2.950   512.433667    192.433333\n",
              "12  Shop 2   36820.295     13681  ...         3.290  1937.910263    720.052632\n",
              "\n",
              "[5 rows x 9 columns]"
            ]
          },
          "metadata": {
            "tags": []
          },
          "execution_count": 40
        }
      ]
    },
    {
      "cell_type": "markdown",
      "metadata": {
        "id": "XLE2R7tIrHz-",
        "colab_type": "text"
      },
      "source": [
        "Посмотрим за счет чего они получают высокую выручку, построим графики среднего чека и среднего количества товаров в чеке"
      ]
    },
    {
      "cell_type": "code",
      "metadata": {
        "id": "pGXxayV8kTY4",
        "colab_type": "code",
        "colab": {
          "base_uri": "https://localhost:8080/",
          "height": 555
        },
        "outputId": "00e48a5c-6ac1-47de-92c2-14a53bdf0d7f"
      },
      "source": [
        "df_grouped.\\\n",
        "plot(x = 'shop_id', y = ['avg_check', 'avg_quantity'], figsize =(20,7), kind= 'bar', grid=True)\n",
        "plt.title('Средний чек и среднее количество товара в чеке',fontsize=20)\n",
        "plt.xticks(fontsize=18, rotation = 75)\n",
        "plt.ylabel('Значение',fontsize=18)\n",
        "plt.xlabel('Номер точки',fontsize=18 )"
      ],
      "execution_count": 41,
      "outputs": [
        {
          "output_type": "execute_result",
          "data": {
            "text/plain": [
              "Text(0.5, 0, 'Номер точки')"
            ]
          },
          "metadata": {
            "tags": []
          },
          "execution_count": 41
        },
        {
          "output_type": "display_data",
          "data": {
            "image/png": "[encoded data removed]",
            "text/plain": [
              "<Figure size 1440x504 with 1 Axes>"
            ]
          },
          "metadata": {
            "tags": [],
            "needs_background": "light"
          }
        }
      ]
    },
    {
      "cell_type": "code",
      "metadata": {
        "id": "j8Hndx6jpdfo",
        "colab_type": "code",
        "colab": {
          "base_uri": "https://localhost:8080/",
          "height": 197
        },
        "outputId": "7b313196-a9a1-4524-8726-fc88d15131bb"
      },
      "source": [
        "df_grouped.\\\n",
        "sort_values(by = 'avg_check', ascending = False).\\\n",
        "head()\n"
      ],
      "execution_count": 42,
      "outputs": [
        {
          "output_type": "execute_result",
          "data": {
            "text/html": [
              "<div>\n",
              "<style scoped>\n",
              "    .dataframe tbody tr th:only-of-type {\n",
              "        vertical-align: middle;\n",
              "    }\n",
              "\n",
              "    .dataframe tbody tr th {\n",
              "        vertical-align: top;\n",
              "    }\n",
              "\n",
              "    .dataframe thead th {\n",
              "        text-align: right;\n",
              "    }\n",
              "</style>\n",
              "<table border=\"1\" class=\"dataframe\">\n",
              "  <thead>\n",
              "    <tr style=\"text-align: right;\">\n",
              "      <th></th>\n",
              "      <th>shop_id</th>\n",
              "      <th>sum</th>\n",
              "      <th>quantity</th>\n",
              "      <th>purchase_id</th>\n",
              "      <th>item_id</th>\n",
              "      <th>loyalty_program</th>\n",
              "      <th>price_per_id</th>\n",
              "      <th>avg_check</th>\n",
              "      <th>avg_quantity</th>\n",
              "    </tr>\n",
              "  </thead>\n",
              "  <tbody>\n",
              "    <tr>\n",
              "      <th>23</th>\n",
              "      <td>Shop 3</td>\n",
              "      <td>100164.715</td>\n",
              "      <td>41657</td>\n",
              "      <td>15</td>\n",
              "      <td>296</td>\n",
              "      <td>0.0</td>\n",
              "      <td>2.470</td>\n",
              "      <td>6677.647667</td>\n",
              "      <td>2777.133333</td>\n",
              "    </tr>\n",
              "    <tr>\n",
              "      <th>17</th>\n",
              "      <td>Shop 24</td>\n",
              "      <td>3984.625</td>\n",
              "      <td>494</td>\n",
              "      <td>1</td>\n",
              "      <td>32</td>\n",
              "      <td>0.0</td>\n",
              "      <td>11.040</td>\n",
              "      <td>3984.625000</td>\n",
              "      <td>494.000000</td>\n",
              "    </tr>\n",
              "    <tr>\n",
              "      <th>18</th>\n",
              "      <td>Shop 25</td>\n",
              "      <td>3234.265</td>\n",
              "      <td>1008</td>\n",
              "      <td>1</td>\n",
              "      <td>47</td>\n",
              "      <td>0.0</td>\n",
              "      <td>3.115</td>\n",
              "      <td>3234.265000</td>\n",
              "      <td>1008.000000</td>\n",
              "    </tr>\n",
              "    <tr>\n",
              "      <th>6</th>\n",
              "      <td>Shop 14</td>\n",
              "      <td>15893.055</td>\n",
              "      <td>5406</td>\n",
              "      <td>5</td>\n",
              "      <td>114</td>\n",
              "      <td>0.0</td>\n",
              "      <td>2.470</td>\n",
              "      <td>3178.611000</td>\n",
              "      <td>1081.200000</td>\n",
              "    </tr>\n",
              "    <tr>\n",
              "      <th>19</th>\n",
              "      <td>Shop 26</td>\n",
              "      <td>2775.590</td>\n",
              "      <td>1035</td>\n",
              "      <td>1</td>\n",
              "      <td>56</td>\n",
              "      <td>0.0</td>\n",
              "      <td>2.750</td>\n",
              "      <td>2775.590000</td>\n",
              "      <td>1035.000000</td>\n",
              "    </tr>\n",
              "  </tbody>\n",
              "</table>\n",
              "</div>"
            ],
            "text/plain": [
              "    shop_id         sum  quantity  ...  price_per_id    avg_check  avg_quantity\n",
              "23   Shop 3  100164.715     41657  ...         2.470  6677.647667   2777.133333\n",
              "17  Shop 24    3984.625       494  ...        11.040  3984.625000    494.000000\n",
              "18  Shop 25    3234.265      1008  ...         3.115  3234.265000   1008.000000\n",
              "6   Shop 14   15893.055      5406  ...         2.470  3178.611000   1081.200000\n",
              "19  Shop 26    2775.590      1035  ...         2.750  2775.590000   1035.000000\n",
              "\n",
              "[5 rows x 9 columns]"
            ]
          },
          "metadata": {
            "tags": []
          },
          "execution_count": 42
        }
      ]
    },
    {
      "cell_type": "code",
      "metadata": {
        "id": "J-yxOhvGqnfA",
        "colab_type": "code",
        "colab": {
          "base_uri": "https://localhost:8080/",
          "height": 197
        },
        "outputId": "3a88bb50-30fe-429d-c30a-16ac01f01a95"
      },
      "source": [
        "df_grouped.\\\n",
        "sort_values(by = 'avg_quantity', ascending = False).\\\n",
        "head()"
      ],
      "execution_count": 43,
      "outputs": [
        {
          "output_type": "execute_result",
          "data": {
            "text/html": [
              "<div>\n",
              "<style scoped>\n",
              "    .dataframe tbody tr th:only-of-type {\n",
              "        vertical-align: middle;\n",
              "    }\n",
              "\n",
              "    .dataframe tbody tr th {\n",
              "        vertical-align: top;\n",
              "    }\n",
              "\n",
              "    .dataframe thead th {\n",
              "        text-align: right;\n",
              "    }\n",
              "</style>\n",
              "<table border=\"1\" class=\"dataframe\">\n",
              "  <thead>\n",
              "    <tr style=\"text-align: right;\">\n",
              "      <th></th>\n",
              "      <th>shop_id</th>\n",
              "      <th>sum</th>\n",
              "      <th>quantity</th>\n",
              "      <th>purchase_id</th>\n",
              "      <th>item_id</th>\n",
              "      <th>loyalty_program</th>\n",
              "      <th>price_per_id</th>\n",
              "      <th>avg_check</th>\n",
              "      <th>avg_quantity</th>\n",
              "    </tr>\n",
              "  </thead>\n",
              "  <tbody>\n",
              "    <tr>\n",
              "      <th>23</th>\n",
              "      <td>Shop 3</td>\n",
              "      <td>100164.715</td>\n",
              "      <td>41657</td>\n",
              "      <td>15</td>\n",
              "      <td>296</td>\n",
              "      <td>0.000000</td>\n",
              "      <td>2.470</td>\n",
              "      <td>6677.647667</td>\n",
              "      <td>2777.133333</td>\n",
              "    </tr>\n",
              "    <tr>\n",
              "      <th>6</th>\n",
              "      <td>Shop 14</td>\n",
              "      <td>15893.055</td>\n",
              "      <td>5406</td>\n",
              "      <td>5</td>\n",
              "      <td>114</td>\n",
              "      <td>0.000000</td>\n",
              "      <td>2.470</td>\n",
              "      <td>3178.611000</td>\n",
              "      <td>1081.200000</td>\n",
              "    </tr>\n",
              "    <tr>\n",
              "      <th>19</th>\n",
              "      <td>Shop 26</td>\n",
              "      <td>2775.590</td>\n",
              "      <td>1035</td>\n",
              "      <td>1</td>\n",
              "      <td>56</td>\n",
              "      <td>0.000000</td>\n",
              "      <td>2.750</td>\n",
              "      <td>2775.590000</td>\n",
              "      <td>1035.000000</td>\n",
              "    </tr>\n",
              "    <tr>\n",
              "      <th>11</th>\n",
              "      <td>Shop 19</td>\n",
              "      <td>10451.600</td>\n",
              "      <td>6077</td>\n",
              "      <td>6</td>\n",
              "      <td>60</td>\n",
              "      <td>0.633803</td>\n",
              "      <td>1.950</td>\n",
              "      <td>1741.933333</td>\n",
              "      <td>1012.833333</td>\n",
              "    </tr>\n",
              "    <tr>\n",
              "      <th>18</th>\n",
              "      <td>Shop 25</td>\n",
              "      <td>3234.265</td>\n",
              "      <td>1008</td>\n",
              "      <td>1</td>\n",
              "      <td>47</td>\n",
              "      <td>0.000000</td>\n",
              "      <td>3.115</td>\n",
              "      <td>3234.265000</td>\n",
              "      <td>1008.000000</td>\n",
              "    </tr>\n",
              "  </tbody>\n",
              "</table>\n",
              "</div>"
            ],
            "text/plain": [
              "    shop_id         sum  quantity  ...  price_per_id    avg_check  avg_quantity\n",
              "23   Shop 3  100164.715     41657  ...         2.470  6677.647667   2777.133333\n",
              "6   Shop 14   15893.055      5406  ...         2.470  3178.611000   1081.200000\n",
              "19  Shop 26    2775.590      1035  ...         2.750  2775.590000   1035.000000\n",
              "11  Shop 19   10451.600      6077  ...         1.950  1741.933333   1012.833333\n",
              "18  Shop 25    3234.265      1008  ...         3.115  3234.265000   1008.000000\n",
              "\n",
              "[5 rows x 9 columns]"
            ]
          },
          "metadata": {
            "tags": []
          },
          "execution_count": 43
        }
      ]
    },
    {
      "cell_type": "markdown",
      "metadata": {
        "id": "tzO4GyUPrz5c",
        "colab_type": "text"
      },
      "source": [
        "Shop 19 - большое количество товаров в чеке, но средняя цена товара низкая. Рекомендация:расширить ассортимент более дорогими позициями."
      ]
    },
    {
      "cell_type": "markdown",
      "metadata": {
        "id": "AGTogwhbrTW4",
        "colab_type": "text"
      },
      "source": [
        "Только shop 3 имеет высокую выручку за счет среднего высокого чека и большого количества товаров в чеке. Остальные точки имеют высокий средний чек, но не показывают высокую выручку. Посмотрим количество покупателей"
      ]
    },
    {
      "cell_type": "code",
      "metadata": {
        "id": "dJcR7OC0sOWc",
        "colab_type": "code",
        "colab": {
          "base_uri": "https://localhost:8080/",
          "height": 555
        },
        "outputId": "3d48b51c-b268-40cd-8868-cc0624f41643"
      },
      "source": [
        "df_grouped[~df_grouped['shop_id'].isin(['Shop 0'])].\\\n",
        "plot(x = 'shop_id', y = ['purchase_id'], figsize =(20,7),kind='bar',grid=True)\n",
        "plt.title('Количество покупателей',fontsize=20)\n",
        "plt.xticks(fontsize=18, rotation = 75)\n",
        "plt.ylabel('Значение',fontsize=18)\n",
        "plt.xlabel('Номер точки',fontsize=18 )"
      ],
      "execution_count": 44,
      "outputs": [
        {
          "output_type": "execute_result",
          "data": {
            "text/plain": [
              "Text(0.5, 0, 'Номер точки')"
            ]
          },
          "metadata": {
            "tags": []
          },
          "execution_count": 44
        },
        {
          "output_type": "display_data",
          "data": {
            "image/png": "[encoded data removed]",
            "text/plain": [
              "<Figure size 1440x504 with 1 Axes>"
            ]
          },
          "metadata": {
            "tags": [],
            "needs_background": "light"
          }
        }
      ]
    },
    {
      "cell_type": "code",
      "metadata": {
        "id": "U4q61oCBseDH",
        "colab_type": "code",
        "colab": {
          "base_uri": "https://localhost:8080/",
          "height": 347
        },
        "outputId": "2cb0d4aa-3607-40f4-d030-9d212806785a"
      },
      "source": [
        "df_grouped[~df_grouped['shop_id'].isin(['Shop 0'])].sort_values(by = 'purchase_id' , ascending = False).head(10)"
      ],
      "execution_count": 45,
      "outputs": [
        {
          "output_type": "execute_result",
          "data": {
            "text/html": [
              "<div>\n",
              "<style scoped>\n",
              "    .dataframe tbody tr th:only-of-type {\n",
              "        vertical-align: middle;\n",
              "    }\n",
              "\n",
              "    .dataframe tbody tr th {\n",
              "        vertical-align: top;\n",
              "    }\n",
              "\n",
              "    .dataframe thead th {\n",
              "        text-align: right;\n",
              "    }\n",
              "</style>\n",
              "<table border=\"1\" class=\"dataframe\">\n",
              "  <thead>\n",
              "    <tr style=\"text-align: right;\">\n",
              "      <th></th>\n",
              "      <th>shop_id</th>\n",
              "      <th>sum</th>\n",
              "      <th>quantity</th>\n",
              "      <th>purchase_id</th>\n",
              "      <th>item_id</th>\n",
              "      <th>loyalty_program</th>\n",
              "      <th>price_per_id</th>\n",
              "      <th>avg_check</th>\n",
              "      <th>avg_quantity</th>\n",
              "    </tr>\n",
              "  </thead>\n",
              "  <tbody>\n",
              "    <tr>\n",
              "      <th>25</th>\n",
              "      <td>Shop 4</td>\n",
              "      <td>50533.035</td>\n",
              "      <td>17937</td>\n",
              "      <td>114</td>\n",
              "      <td>703</td>\n",
              "      <td>0.000000</td>\n",
              "      <td>3.115</td>\n",
              "      <td>443.272237</td>\n",
              "      <td>157.342105</td>\n",
              "    </tr>\n",
              "    <tr>\n",
              "      <th>1</th>\n",
              "      <td>Shop 1</td>\n",
              "      <td>46119.030</td>\n",
              "      <td>17319</td>\n",
              "      <td>90</td>\n",
              "      <td>588</td>\n",
              "      <td>0.000000</td>\n",
              "      <td>2.950</td>\n",
              "      <td>512.433667</td>\n",
              "      <td>192.433333</td>\n",
              "    </tr>\n",
              "    <tr>\n",
              "      <th>27</th>\n",
              "      <td>Shop 6</td>\n",
              "      <td>51947.615</td>\n",
              "      <td>16592</td>\n",
              "      <td>46</td>\n",
              "      <td>644</td>\n",
              "      <td>0.000000</td>\n",
              "      <td>3.325</td>\n",
              "      <td>1129.295978</td>\n",
              "      <td>360.695652</td>\n",
              "    </tr>\n",
              "    <tr>\n",
              "      <th>4</th>\n",
              "      <td>Shop 12</td>\n",
              "      <td>6813.930</td>\n",
              "      <td>3357</td>\n",
              "      <td>21</td>\n",
              "      <td>186</td>\n",
              "      <td>0.000000</td>\n",
              "      <td>2.720</td>\n",
              "      <td>324.472857</td>\n",
              "      <td>159.857143</td>\n",
              "    </tr>\n",
              "    <tr>\n",
              "      <th>29</th>\n",
              "      <td>Shop 8</td>\n",
              "      <td>14887.030</td>\n",
              "      <td>4651</td>\n",
              "      <td>20</td>\n",
              "      <td>388</td>\n",
              "      <td>0.112701</td>\n",
              "      <td>3.360</td>\n",
              "      <td>744.351500</td>\n",
              "      <td>232.550000</td>\n",
              "    </tr>\n",
              "    <tr>\n",
              "      <th>12</th>\n",
              "      <td>Shop 2</td>\n",
              "      <td>36820.295</td>\n",
              "      <td>13681</td>\n",
              "      <td>19</td>\n",
              "      <td>201</td>\n",
              "      <td>0.000000</td>\n",
              "      <td>3.290</td>\n",
              "      <td>1937.910263</td>\n",
              "      <td>720.052632</td>\n",
              "    </tr>\n",
              "    <tr>\n",
              "      <th>2</th>\n",
              "      <td>Shop 10</td>\n",
              "      <td>9949.380</td>\n",
              "      <td>3282</td>\n",
              "      <td>15</td>\n",
              "      <td>202</td>\n",
              "      <td>0.000000</td>\n",
              "      <td>3.755</td>\n",
              "      <td>663.292000</td>\n",
              "      <td>218.800000</td>\n",
              "    </tr>\n",
              "    <tr>\n",
              "      <th>23</th>\n",
              "      <td>Shop 3</td>\n",
              "      <td>100164.715</td>\n",
              "      <td>41657</td>\n",
              "      <td>15</td>\n",
              "      <td>296</td>\n",
              "      <td>0.000000</td>\n",
              "      <td>2.470</td>\n",
              "      <td>6677.647667</td>\n",
              "      <td>2777.133333</td>\n",
              "    </tr>\n",
              "    <tr>\n",
              "      <th>28</th>\n",
              "      <td>Shop 7</td>\n",
              "      <td>11233.930</td>\n",
              "      <td>4500</td>\n",
              "      <td>11</td>\n",
              "      <td>256</td>\n",
              "      <td>0.000000</td>\n",
              "      <td>2.950</td>\n",
              "      <td>1021.266364</td>\n",
              "      <td>409.090909</td>\n",
              "    </tr>\n",
              "    <tr>\n",
              "      <th>3</th>\n",
              "      <td>Shop 11</td>\n",
              "      <td>4023.410</td>\n",
              "      <td>1330</td>\n",
              "      <td>10</td>\n",
              "      <td>153</td>\n",
              "      <td>0.000000</td>\n",
              "      <td>3.290</td>\n",
              "      <td>402.341000</td>\n",
              "      <td>133.000000</td>\n",
              "    </tr>\n",
              "  </tbody>\n",
              "</table>\n",
              "</div>"
            ],
            "text/plain": [
              "    shop_id         sum  quantity  ...  price_per_id    avg_check  avg_quantity\n",
              "25   Shop 4   50533.035     17937  ...         3.115   443.272237    157.342105\n",
              "1    Shop 1   46119.030     17319  ...         2.950   512.433667    192.433333\n",
              "27   Shop 6   51947.615     16592  ...         3.325  1129.295978    360.695652\n",
              "4   Shop 12    6813.930      3357  ...         2.720   324.472857    159.857143\n",
              "29   Shop 8   14887.030      4651  ...         3.360   744.351500    232.550000\n",
              "12   Shop 2   36820.295     13681  ...         3.290  1937.910263    720.052632\n",
              "2   Shop 10    9949.380      3282  ...         3.755   663.292000    218.800000\n",
              "23   Shop 3  100164.715     41657  ...         2.470  6677.647667   2777.133333\n",
              "28   Shop 7   11233.930      4500  ...         2.950  1021.266364    409.090909\n",
              "3   Shop 11    4023.410      1330  ...         3.290   402.341000    133.000000\n",
              "\n",
              "[10 rows x 9 columns]"
            ]
          },
          "metadata": {
            "tags": []
          },
          "execution_count": 45
        }
      ]
    },
    {
      "cell_type": "markdown",
      "metadata": {
        "id": "ihExq9ggsuWu",
        "colab_type": "text"
      },
      "source": [
        "Действительно, 24, 25,19, 14 имеют эффективные показатели, но низкую проходимость. Проверим так же количество товаров в этих магазинах . Магазины 4, 1, 6 с высокой выручкой и большим количеством покупателей, но как мы помним показатели среднего чека и количества товаров у них невысокие. Рекомендация для 4,1 и 6 : повысить среднее количество товаров в чеке."
      ]
    },
    {
      "cell_type": "code",
      "metadata": {
        "id": "Mb1nvtpUf0de",
        "colab_type": "code",
        "colab": {
          "base_uri": "https://localhost:8080/",
          "height": 542
        },
        "outputId": "13a11b61-614b-425a-96e5-75dd5fbdb7f1"
      },
      "source": [
        "import plotly.express as px\n",
        "fig = go.Figure(data=[go.Pie(labels=df_grouped['shop_id'], values=df_grouped['item_id'])])\n",
        "fig.show()"
      ],
      "execution_count": 46,
      "outputs": [
        {
          "output_type": "display_data",
          "data": {
            "text/html": [
              "<html>\n",
              "<head><meta charset=\"utf-8\" /></head>\n",
              "<body>\n",
              "    <div>\n",
              "            <script src=\"https://cdnjs.cloudflare.com/ajax/libs/mathjax/2.7.5/MathJax.js?config=TeX-AMS-MML_SVG\"></script><script type=\"text/javascript\">if (window.MathJax) {MathJax.Hub.Config({SVG: {font: \"STIX-Web\"}});}</script>\n",
              "                <script type=\"text/javascript\">window.PlotlyConfig = {MathJaxConfig: 'local'};</script>\n",
              "        <script src=\"https://cdn.plot.ly/plotly-latest.min.js\"></script>    \n",
              "            <div id=\"e74d5bbe-29f7-400d-84a9-e9c83f598dd2\" class=\"plotly-graph-div\" style=\"height:525px; width:100%;\"></div>\n",
              "            <script type=\"text/javascript\">\n",
              "                \n",
              "                    window.PLOTLYENV=window.PLOTLYENV || {};\n",
              "                    \n",
              "                if (document.getElementById(\"e74d5bbe-29f7-400d-84a9-e9c83f598dd2\")) {\n",
              "                    Plotly.newPlot(\n",
              "                        'e74d5bbe-29f7-400d-84a9-e9c83f598dd2',\n",
              "                        [{\"labels\": [\"Shop 0\", \"Shop 1\", \"Shop 10\", \"Shop 11\", \"Shop 12\", \"Shop 13\", \"Shop 14\", \"Shop 15\", \"Shop 16\", \"Shop 17\", \"Shop 18\", \"Shop 19\", \"Shop 2\", \"Shop 20\", \"Shop 21\", \"Shop 22\", \"Shop 23\", \"Shop 24\", \"Shop 25\", \"Shop 26\", \"Shop 27\", \"Shop 28\", \"Shop 29\", \"Shop 3\", \"Shop 30\", \"Shop 4\", \"Shop 5\", \"Shop 6\", \"Shop 7\", \"Shop 8\", \"Shop 9\"], \"type\": \"pie\", \"values\": [3144, 588, 202, 153, 186, 29, 114, 49, 57, 38, 229, 60, 201, 28, 32, 33, 1, 32, 47, 56, 45, 30, 9, 296, 15, 703, 109, 644, 256, 388, 54]}],\n",
              "                        {\"template\": {\"data\": {\"bar\": [{\"error_x\": {\"color\": \"#2a3f5f\"}, \"error_y\": {\"color\": \"#2a3f5f\"}, \"marker\": {\"line\": {\"color\": \"#E5ECF6\", \"width\": 0.5}}, \"type\": \"bar\"}], \"barpolar\": [{\"marker\": {\"line\": {\"color\": \"#E5ECF6\", \"width\": 0.5}}, \"type\": \"barpolar\"}], \"carpet\": [{\"aaxis\": {\"endlinecolor\": \"#2a3f5f\", \"gridcolor\": \"white\", \"linecolor\": \"white\", \"minorgridcolor\": \"white\", \"startlinecolor\": \"#2a3f5f\"}, \"baxis\": {\"endlinecolor\": \"#2a3f5f\", \"gridcolor\": \"white\", \"linecolor\": \"white\", \"minorgridcolor\": \"white\", \"startlinecolor\": \"#2a3f5f\"}, \"type\": \"carpet\"}], \"choropleth\": [{\"colorbar\": {\"outlinewidth\": 0, \"ticks\": \"\"}, \"type\": \"choropleth\"}], \"contour\": [{\"colorbar\": {\"outlinewidth\": 0, \"ticks\": \"\"}, \"colorscale\": [[0.0, \"#0d0887\"], [0.1111111111111111, \"#46039f\"], [0.2222222222222222, \"#7201a8\"], [0.3333333333333333, \"#9c179e\"], [0.4444444444444444, \"#bd3786\"], [0.5555555555555556, \"#d8576b\"], [0.6666666666666666, \"#ed7953\"], [0.7777777777777778, \"#fb9f3a\"], [0.8888888888888888, \"#fdca26\"], [1.0, \"#f0f921\"]], \"type\": \"contour\"}], \"contourcarpet\": [{\"colorbar\": {\"outlinewidth\": 0, \"ticks\": \"\"}, \"type\": \"contourcarpet\"}], \"heatmap\": [{\"colorbar\": {\"outlinewidth\": 0, \"ticks\": \"\"}, \"colorscale\": [[0.0, \"#0d0887\"], [0.1111111111111111, \"#46039f\"], [0.2222222222222222, \"#7201a8\"], [0.3333333333333333, \"#9c179e\"], [0.4444444444444444, \"#bd3786\"], [0.5555555555555556, \"#d8576b\"], [0.6666666666666666, \"#ed7953\"], [0.7777777777777778, \"#fb9f3a\"], [0.8888888888888888, \"#fdca26\"], [1.0, \"#f0f921\"]], \"type\": \"heatmap\"}], \"heatmapgl\": [{\"colorbar\": {\"outlinewidth\": 0, \"ticks\": \"\"}, \"colorscale\": [[0.0, \"#0d0887\"], [0.1111111111111111, \"#46039f\"], [0.2222222222222222, \"#7201a8\"], [0.3333333333333333, \"#9c179e\"], [0.4444444444444444, \"#bd3786\"], [0.5555555555555556, \"#d8576b\"], [0.6666666666666666, \"#ed7953\"], [0.7777777777777778, \"#fb9f3a\"], [0.8888888888888888, \"#fdca26\"], [1.0, \"#f0f921\"]], \"type\": \"heatmapgl\"}], \"histogram\": [{\"marker\": {\"colorbar\": {\"outlinewidth\": 0, \"ticks\": \"\"}}, \"type\": \"histogram\"}], \"histogram2d\": [{\"colorbar\": {\"outlinewidth\": 0, \"ticks\": \"\"}, \"colorscale\": [[0.0, \"#0d0887\"], [0.1111111111111111, \"#46039f\"], [0.2222222222222222, \"#7201a8\"], [0.3333333333333333, \"#9c179e\"], [0.4444444444444444, \"#bd3786\"], [0.5555555555555556, \"#d8576b\"], [0.6666666666666666, \"#ed7953\"], [0.7777777777777778, \"#fb9f3a\"], [0.8888888888888888, \"#fdca26\"], [1.0, \"#f0f921\"]], \"type\": \"histogram2d\"}], \"histogram2dcontour\": [{\"colorbar\": {\"outlinewidth\": 0, \"ticks\": \"\"}, \"colorscale\": [[0.0, \"#0d0887\"], [0.1111111111111111, \"#46039f\"], [0.2222222222222222, \"#7201a8\"], [0.3333333333333333, \"#9c179e\"], [0.4444444444444444, \"#bd3786\"], [0.5555555555555556, \"#d8576b\"], [0.6666666666666666, \"#ed7953\"], [0.7777777777777778, \"#fb9f3a\"], [0.8888888888888888, \"#fdca26\"], [1.0, \"#f0f921\"]], \"type\": \"histogram2dcontour\"}], \"mesh3d\": [{\"colorbar\": {\"outlinewidth\": 0, \"ticks\": \"\"}, \"type\": \"mesh3d\"}], \"parcoords\": [{\"line\": {\"colorbar\": {\"outlinewidth\": 0, \"ticks\": \"\"}}, \"type\": \"parcoords\"}], \"pie\": [{\"automargin\": true, \"type\": \"pie\"}], \"scatter\": [{\"marker\": {\"colorbar\": {\"outlinewidth\": 0, \"ticks\": \"\"}}, \"type\": \"scatter\"}], \"scatter3d\": [{\"line\": {\"colorbar\": {\"outlinewidth\": 0, \"ticks\": \"\"}}, \"marker\": {\"colorbar\": {\"outlinewidth\": 0, \"ticks\": \"\"}}, \"type\": \"scatter3d\"}], \"scattercarpet\": [{\"marker\": {\"colorbar\": {\"outlinewidth\": 0, \"ticks\": \"\"}}, \"type\": \"scattercarpet\"}], \"scattergeo\": [{\"marker\": {\"colorbar\": {\"outlinewidth\": 0, \"ticks\": \"\"}}, \"type\": \"scattergeo\"}], \"scattergl\": [{\"marker\": {\"colorbar\": {\"outlinewidth\": 0, \"ticks\": \"\"}}, \"type\": \"scattergl\"}], \"scattermapbox\": [{\"marker\": {\"colorbar\": {\"outlinewidth\": 0, \"ticks\": \"\"}}, \"type\": \"scattermapbox\"}], \"scatterpolar\": [{\"marker\": {\"colorbar\": {\"outlinewidth\": 0, \"ticks\": \"\"}}, \"type\": \"scatterpolar\"}], \"scatterpolargl\": [{\"marker\": {\"colorbar\": {\"outlinewidth\": 0, \"ticks\": \"\"}}, \"type\": \"scatterpolargl\"}], \"scatterternary\": [{\"marker\": {\"colorbar\": {\"outlinewidth\": 0, \"ticks\": \"\"}}, \"type\": \"scatterternary\"}], \"surface\": [{\"colorbar\": {\"outlinewidth\": 0, \"ticks\": \"\"}, \"colorscale\": [[0.0, \"#0d0887\"], [0.1111111111111111, \"#46039f\"], [0.2222222222222222, \"#7201a8\"], [0.3333333333333333, \"#9c179e\"], [0.4444444444444444, \"#bd3786\"], [0.5555555555555556, \"#d8576b\"], [0.6666666666666666, \"#ed7953\"], [0.7777777777777778, \"#fb9f3a\"], [0.8888888888888888, \"#fdca26\"], [1.0, \"#f0f921\"]], \"type\": \"surface\"}], \"table\": [{\"cells\": {\"fill\": {\"color\": \"#EBF0F8\"}, \"line\": {\"color\": \"white\"}}, \"header\": {\"fill\": {\"color\": \"#C8D4E3\"}, \"line\": {\"color\": \"white\"}}, \"type\": \"table\"}]}, \"layout\": {\"annotationdefaults\": {\"arrowcolor\": \"#2a3f5f\", \"arrowhead\": 0, \"arrowwidth\": 1}, \"coloraxis\": {\"colorbar\": {\"outlinewidth\": 0, \"ticks\": \"\"}}, \"colorscale\": {\"diverging\": [[0, \"#8e0152\"], [0.1, \"#c51b7d\"], [0.2, \"#de77ae\"], [0.3, \"#f1b6da\"], [0.4, \"#fde0ef\"], [0.5, \"#f7f7f7\"], [0.6, \"#e6f5d0\"], [0.7, \"#b8e186\"], [0.8, \"#7fbc41\"], [0.9, \"#4d9221\"], [1, \"#276419\"]], \"sequential\": [[0.0, \"#0d0887\"], [0.1111111111111111, \"#46039f\"], [0.2222222222222222, \"#7201a8\"], [0.3333333333333333, \"#9c179e\"], [0.4444444444444444, \"#bd3786\"], [0.5555555555555556, \"#d8576b\"], [0.6666666666666666, \"#ed7953\"], [0.7777777777777778, \"#fb9f3a\"], [0.8888888888888888, \"#fdca26\"], [1.0, \"#f0f921\"]], \"sequentialminus\": [[0.0, \"#0d0887\"], [0.1111111111111111, \"#46039f\"], [0.2222222222222222, \"#7201a8\"], [0.3333333333333333, \"#9c179e\"], [0.4444444444444444, \"#bd3786\"], [0.5555555555555556, \"#d8576b\"], [0.6666666666666666, \"#ed7953\"], [0.7777777777777778, \"#fb9f3a\"], [0.8888888888888888, \"#fdca26\"], [1.0, \"#f0f921\"]]}, \"colorway\": [\"#636efa\", \"#EF553B\", \"#00cc96\", \"#ab63fa\", \"#FFA15A\", \"#19d3f3\", \"#FF6692\", \"#B6E880\", \"#FF97FF\", \"#FECB52\"], \"font\": {\"color\": \"#2a3f5f\"}, \"geo\": {\"bgcolor\": \"white\", \"lakecolor\": \"white\", \"landcolor\": \"#E5ECF6\", \"showlakes\": true, \"showland\": true, \"subunitcolor\": \"white\"}, \"hoverlabel\": {\"align\": \"left\"}, \"hovermode\": \"closest\", \"mapbox\": {\"style\": \"light\"}, \"paper_bgcolor\": \"white\", \"plot_bgcolor\": \"#E5ECF6\", \"polar\": {\"angularaxis\": {\"gridcolor\": \"white\", \"linecolor\": \"white\", \"ticks\": \"\"}, \"bgcolor\": \"#E5ECF6\", \"radialaxis\": {\"gridcolor\": \"white\", \"linecolor\": \"white\", \"ticks\": \"\"}}, \"scene\": {\"xaxis\": {\"backgroundcolor\": \"#E5ECF6\", \"gridcolor\": \"white\", \"gridwidth\": 2, \"linecolor\": \"white\", \"showbackground\": true, \"ticks\": \"\", \"zerolinecolor\": \"white\"}, \"yaxis\": {\"backgroundcolor\": \"#E5ECF6\", \"gridcolor\": \"white\", \"gridwidth\": 2, \"linecolor\": \"white\", \"showbackground\": true, \"ticks\": \"\", \"zerolinecolor\": \"white\"}, \"zaxis\": {\"backgroundcolor\": \"#E5ECF6\", \"gridcolor\": \"white\", \"gridwidth\": 2, \"linecolor\": \"white\", \"showbackground\": true, \"ticks\": \"\", \"zerolinecolor\": \"white\"}}, \"shapedefaults\": {\"line\": {\"color\": \"#2a3f5f\"}}, \"ternary\": {\"aaxis\": {\"gridcolor\": \"white\", \"linecolor\": \"white\", \"ticks\": \"\"}, \"baxis\": {\"gridcolor\": \"white\", \"linecolor\": \"white\", \"ticks\": \"\"}, \"bgcolor\": \"#E5ECF6\", \"caxis\": {\"gridcolor\": \"white\", \"linecolor\": \"white\", \"ticks\": \"\"}}, \"title\": {\"x\": 0.05}, \"xaxis\": {\"automargin\": true, \"gridcolor\": \"white\", \"linecolor\": \"white\", \"ticks\": \"\", \"title\": {\"standoff\": 15}, \"zerolinecolor\": \"white\", \"zerolinewidth\": 2}, \"yaxis\": {\"automargin\": true, \"gridcolor\": \"white\", \"linecolor\": \"white\", \"ticks\": \"\", \"title\": {\"standoff\": 15}, \"zerolinecolor\": \"white\", \"zerolinewidth\": 2}}}},\n",
              "                        {\"responsive\": true}\n",
              "                    ).then(function(){\n",
              "                            \n",
              "var gd = document.getElementById('e74d5bbe-29f7-400d-84a9-e9c83f598dd2');\n",
              "var x = new MutationObserver(function (mutations, observer) {{\n",
              "        var display = window.getComputedStyle(gd).display;\n",
              "        if (!display || display === 'none') {{\n",
              "            console.log([gd, 'removed!']);\n",
              "            Plotly.purge(gd);\n",
              "            observer.disconnect();\n",
              "        }}\n",
              "}});\n",
              "\n",
              "// Listen for the removal of the full notebook cells\n",
              "var notebookContainer = gd.closest('#notebook-container');\n",
              "if (notebookContainer) {{\n",
              "    x.observe(notebookContainer, {childList: true});\n",
              "}}\n",
              "\n",
              "// Listen for the clearing of the current output cell\n",
              "var outputEl = gd.closest('.output');\n",
              "if (outputEl) {{\n",
              "    x.observe(outputEl, {childList: true});\n",
              "}}\n",
              "\n",
              "                        })\n",
              "                };\n",
              "                \n",
              "            </script>\n",
              "        </div>\n",
              "</body>\n",
              "</html>"
            ]
          },
          "metadata": {
            "tags": []
          }
        }
      ]
    },
    {
      "cell_type": "code",
      "metadata": {
        "id": "28t8FoGmuakT",
        "colab_type": "code",
        "colab": {
          "base_uri": "https://localhost:8080/",
          "height": 197
        },
        "outputId": "40b7bfb0-65d4-49b8-9a64-5d356bfb447c"
      },
      "source": [
        "df_grouped[~df_grouped['shop_id'].isin(['Shop 0'])].sort_values(by = 'item_id' , ascending = False).head()"
      ],
      "execution_count": 47,
      "outputs": [
        {
          "output_type": "execute_result",
          "data": {
            "text/html": [
              "<div>\n",
              "<style scoped>\n",
              "    .dataframe tbody tr th:only-of-type {\n",
              "        vertical-align: middle;\n",
              "    }\n",
              "\n",
              "    .dataframe tbody tr th {\n",
              "        vertical-align: top;\n",
              "    }\n",
              "\n",
              "    .dataframe thead th {\n",
              "        text-align: right;\n",
              "    }\n",
              "</style>\n",
              "<table border=\"1\" class=\"dataframe\">\n",
              "  <thead>\n",
              "    <tr style=\"text-align: right;\">\n",
              "      <th></th>\n",
              "      <th>shop_id</th>\n",
              "      <th>sum</th>\n",
              "      <th>quantity</th>\n",
              "      <th>purchase_id</th>\n",
              "      <th>item_id</th>\n",
              "      <th>loyalty_program</th>\n",
              "      <th>price_per_id</th>\n",
              "      <th>avg_check</th>\n",
              "      <th>avg_quantity</th>\n",
              "    </tr>\n",
              "  </thead>\n",
              "  <tbody>\n",
              "    <tr>\n",
              "      <th>25</th>\n",
              "      <td>Shop 4</td>\n",
              "      <td>50533.035</td>\n",
              "      <td>17937</td>\n",
              "      <td>114</td>\n",
              "      <td>703</td>\n",
              "      <td>0.000000</td>\n",
              "      <td>3.115</td>\n",
              "      <td>443.272237</td>\n",
              "      <td>157.342105</td>\n",
              "    </tr>\n",
              "    <tr>\n",
              "      <th>27</th>\n",
              "      <td>Shop 6</td>\n",
              "      <td>51947.615</td>\n",
              "      <td>16592</td>\n",
              "      <td>46</td>\n",
              "      <td>644</td>\n",
              "      <td>0.000000</td>\n",
              "      <td>3.325</td>\n",
              "      <td>1129.295978</td>\n",
              "      <td>360.695652</td>\n",
              "    </tr>\n",
              "    <tr>\n",
              "      <th>1</th>\n",
              "      <td>Shop 1</td>\n",
              "      <td>46119.030</td>\n",
              "      <td>17319</td>\n",
              "      <td>90</td>\n",
              "      <td>588</td>\n",
              "      <td>0.000000</td>\n",
              "      <td>2.950</td>\n",
              "      <td>512.433667</td>\n",
              "      <td>192.433333</td>\n",
              "    </tr>\n",
              "    <tr>\n",
              "      <th>29</th>\n",
              "      <td>Shop 8</td>\n",
              "      <td>14887.030</td>\n",
              "      <td>4651</td>\n",
              "      <td>20</td>\n",
              "      <td>388</td>\n",
              "      <td>0.112701</td>\n",
              "      <td>3.360</td>\n",
              "      <td>744.351500</td>\n",
              "      <td>232.550000</td>\n",
              "    </tr>\n",
              "    <tr>\n",
              "      <th>23</th>\n",
              "      <td>Shop 3</td>\n",
              "      <td>100164.715</td>\n",
              "      <td>41657</td>\n",
              "      <td>15</td>\n",
              "      <td>296</td>\n",
              "      <td>0.000000</td>\n",
              "      <td>2.470</td>\n",
              "      <td>6677.647667</td>\n",
              "      <td>2777.133333</td>\n",
              "    </tr>\n",
              "  </tbody>\n",
              "</table>\n",
              "</div>"
            ],
            "text/plain": [
              "   shop_id         sum  quantity  ...  price_per_id    avg_check  avg_quantity\n",
              "25  Shop 4   50533.035     17937  ...         3.115   443.272237    157.342105\n",
              "27  Shop 6   51947.615     16592  ...         3.325  1129.295978    360.695652\n",
              "1   Shop 1   46119.030     17319  ...         2.950   512.433667    192.433333\n",
              "29  Shop 8   14887.030      4651  ...         3.360   744.351500    232.550000\n",
              "23  Shop 3  100164.715     41657  ...         2.470  6677.647667   2777.133333\n",
              "\n",
              "[5 rows x 9 columns]"
            ]
          },
          "metadata": {
            "tags": []
          },
          "execution_count": 47
        }
      ]
    },
    {
      "cell_type": "markdown",
      "metadata": {
        "id": "fiVr0buOu0zN",
        "colab_type": "text"
      },
      "source": [
        "Магазины с большим количеством покупателей обладают большим ассортиментом. Рекомендация для магазина 8: повысить количество покупателей (проходимость). Так как ассортимент товаров высокий. Рекомендация для 24, 25,19, 14 увеличить ассортимент. Далее определим какие группы товаров пользуются большим спросом."
      ]
    },
    {
      "cell_type": "code",
      "metadata": {
        "id": "fro5HcFkL_hP",
        "colab_type": "code",
        "colab": {
          "base_uri": "https://localhost:8080/",
          "height": 406
        },
        "outputId": "8533a688-b6a6-4652-a90c-fa347daf62e7"
      },
      "source": [
        "df_new_filtered.\\\n",
        "groupby('item_id').\\\n",
        "agg(\n",
        "    {'price_per_id': 'median',\n",
        "     'sum' : 'sum',\n",
        "     'quantity' : 'sum'}\n",
        "    ).\\\n",
        "    sort_values(by= 'sum', ascending = False).\\\n",
        "    reset_index()"
      ],
      "execution_count": 48,
      "outputs": [
        {
          "output_type": "execute_result",
          "data": {
            "text/html": [
              "<div>\n",
              "<style scoped>\n",
              "    .dataframe tbody tr th:only-of-type {\n",
              "        vertical-align: middle;\n",
              "    }\n",
              "\n",
              "    .dataframe tbody tr th {\n",
              "        vertical-align: top;\n",
              "    }\n",
              "\n",
              "    .dataframe thead th {\n",
              "        text-align: right;\n",
              "    }\n",
              "</style>\n",
              "<table border=\"1\" class=\"dataframe\">\n",
              "  <thead>\n",
              "    <tr style=\"text-align: right;\">\n",
              "      <th></th>\n",
              "      <th>item_id</th>\n",
              "      <th>price_per_id</th>\n",
              "      <th>sum</th>\n",
              "      <th>quantity</th>\n",
              "    </tr>\n",
              "  </thead>\n",
              "  <tbody>\n",
              "    <tr>\n",
              "      <th>0</th>\n",
              "      <td>22423</td>\n",
              "      <td>12.735</td>\n",
              "      <td>33060.060</td>\n",
              "      <td>2596</td>\n",
              "    </tr>\n",
              "    <tr>\n",
              "      <th>1</th>\n",
              "      <td>85123A</td>\n",
              "      <td>3.095</td>\n",
              "      <td>22020.925</td>\n",
              "      <td>7115</td>\n",
              "    </tr>\n",
              "    <tr>\n",
              "      <th>2</th>\n",
              "      <td>79321</td>\n",
              "      <td>5.750</td>\n",
              "      <td>16640.500</td>\n",
              "      <td>2894</td>\n",
              "    </tr>\n",
              "    <tr>\n",
              "      <th>3</th>\n",
              "      <td>85099B</td>\n",
              "      <td>1.950</td>\n",
              "      <td>14568.450</td>\n",
              "      <td>7471</td>\n",
              "    </tr>\n",
              "    <tr>\n",
              "      <th>4</th>\n",
              "      <td>22469</td>\n",
              "      <td>3.290</td>\n",
              "      <td>13959.470</td>\n",
              "      <td>4243</td>\n",
              "    </tr>\n",
              "    <tr>\n",
              "      <th>...</th>\n",
              "      <td>...</td>\n",
              "      <td>...</td>\n",
              "      <td>...</td>\n",
              "      <td>...</td>\n",
              "    </tr>\n",
              "    <tr>\n",
              "      <th>3151</th>\n",
              "      <td>22202</td>\n",
              "      <td>5.605</td>\n",
              "      <td>-498.845</td>\n",
              "      <td>-89</td>\n",
              "    </tr>\n",
              "    <tr>\n",
              "      <th>3152</th>\n",
              "      <td>84613A</td>\n",
              "      <td>2.325</td>\n",
              "      <td>-530.100</td>\n",
              "      <td>-228</td>\n",
              "    </tr>\n",
              "    <tr>\n",
              "      <th>3153</th>\n",
              "      <td>21275</td>\n",
              "      <td>16.950</td>\n",
              "      <td>-728.850</td>\n",
              "      <td>-43</td>\n",
              "    </tr>\n",
              "    <tr>\n",
              "      <th>3154</th>\n",
              "      <td>D</td>\n",
              "      <td>42.500</td>\n",
              "      <td>-1020.000</td>\n",
              "      <td>-24</td>\n",
              "    </tr>\n",
              "    <tr>\n",
              "      <th>3155</th>\n",
              "      <td>BANK CHARGES</td>\n",
              "      <td>141.960</td>\n",
              "      <td>-1987.440</td>\n",
              "      <td>-14</td>\n",
              "    </tr>\n",
              "  </tbody>\n",
              "</table>\n",
              "<p>3156 rows × 4 columns</p>\n",
              "</div>"
            ],
            "text/plain": [
              "           item_id  price_per_id        sum  quantity\n",
              "0            22423        12.735  33060.060      2596\n",
              "1           85123A         3.095  22020.925      7115\n",
              "2            79321         5.750  16640.500      2894\n",
              "3           85099B         1.950  14568.450      7471\n",
              "4            22469         3.290  13959.470      4243\n",
              "...            ...           ...        ...       ...\n",
              "3151         22202         5.605   -498.845       -89\n",
              "3152        84613A         2.325   -530.100      -228\n",
              "3153         21275        16.950   -728.850       -43\n",
              "3154             D        42.500  -1020.000       -24\n",
              "3155  BANK CHARGES       141.960  -1987.440       -14\n",
              "\n",
              "[3156 rows x 4 columns]"
            ]
          },
          "metadata": {
            "tags": []
          },
          "execution_count": 48
        }
      ]
    },
    {
      "cell_type": "code",
      "metadata": {
        "id": "F85PoTq97Qle",
        "colab_type": "code",
        "colab": {
          "base_uri": "https://localhost:8080/",
          "height": 70
        },
        "outputId": "3e9a1363-af65-4527-834b-c256fc9097c0"
      },
      "source": [
        "df_new_filtered.query('item_id == \"22423\"')['shop_id'].unique()"
      ],
      "execution_count": 49,
      "outputs": [
        {
          "output_type": "execute_result",
          "data": {
            "text/plain": [
              "array(['Shop 0', 'Shop 6', 'Shop 11', 'Shop 1', 'Shop 4', 'Shop 5',\n",
              "       'Shop 8', 'Shop 27', 'Shop 18', 'Shop 3', 'Shop 24', 'Shop 12',\n",
              "       'Shop 10', 'Shop 2', 'Shop 21', 'Shop 15', 'Shop 7'], dtype=object)"
            ]
          },
          "metadata": {
            "tags": []
          },
          "execution_count": 49
        }
      ]
    },
    {
      "cell_type": "markdown",
      "metadata": {
        "id": "y5KdL96uxXCd",
        "colab_type": "text"
      },
      "source": [
        "В 25,19,14 следует добавить в ассортимент самый популярный товар 22423"
      ]
    },
    {
      "cell_type": "code",
      "metadata": {
        "id": "zC0jYO_txfwZ",
        "colab_type": "code",
        "colab": {
          "base_uri": "https://localhost:8080/",
          "height": 52
        },
        "outputId": "d3534190-4cef-4c36-a352-9a8b413ee580"
      },
      "source": [
        "df_new_filtered.query('item_id == \"85123A\"')['shop_id'].unique()"
      ],
      "execution_count": 50,
      "outputs": [
        {
          "output_type": "execute_result",
          "data": {
            "text/plain": [
              "array(['Shop 0', 'Shop 6', 'Shop 18', 'Shop 10', 'Shop 2', 'Shop 8',\n",
              "       'Shop 26', 'Shop 3', 'Shop 7'], dtype=object)"
            ]
          },
          "metadata": {
            "tags": []
          },
          "execution_count": 50
        }
      ]
    },
    {
      "cell_type": "markdown",
      "metadata": {
        "id": "viyYxtpExvFm",
        "colab_type": "text"
      },
      "source": [
        "Аналогично добавить 85123A в 24, 25,19, 14"
      ]
    },
    {
      "cell_type": "code",
      "metadata": {
        "id": "pk6LNjPxxQOH",
        "colab_type": "code",
        "colab": {
          "base_uri": "https://localhost:8080/",
          "height": 406
        },
        "outputId": "2ca38190-56dc-4fd4-ba08-6b1727c43ace"
      },
      "source": [
        "df_new_filtered.\\\n",
        "groupby('item_id').\\\n",
        "agg(\n",
        "    {'price_per_id': 'median',\n",
        "     'sum' : 'sum',\n",
        "     'quantity' : 'sum'}\n",
        "    ).\\\n",
        "    sort_values(by= 'quantity', ascending = False).\\\n",
        "    reset_index()"
      ],
      "execution_count": 51,
      "outputs": [
        {
          "output_type": "execute_result",
          "data": {
            "text/html": [
              "<div>\n",
              "<style scoped>\n",
              "    .dataframe tbody tr th:only-of-type {\n",
              "        vertical-align: middle;\n",
              "    }\n",
              "\n",
              "    .dataframe tbody tr th {\n",
              "        vertical-align: top;\n",
              "    }\n",
              "\n",
              "    .dataframe thead th {\n",
              "        text-align: right;\n",
              "    }\n",
              "</style>\n",
              "<table border=\"1\" class=\"dataframe\">\n",
              "  <thead>\n",
              "    <tr style=\"text-align: right;\">\n",
              "      <th></th>\n",
              "      <th>item_id</th>\n",
              "      <th>price_per_id</th>\n",
              "      <th>sum</th>\n",
              "      <th>quantity</th>\n",
              "    </tr>\n",
              "  </thead>\n",
              "  <tbody>\n",
              "    <tr>\n",
              "      <th>0</th>\n",
              "      <td>85099B</td>\n",
              "      <td>1.950</td>\n",
              "      <td>14568.450</td>\n",
              "      <td>7471</td>\n",
              "    </tr>\n",
              "    <tr>\n",
              "      <th>1</th>\n",
              "      <td>85123A</td>\n",
              "      <td>3.095</td>\n",
              "      <td>22020.925</td>\n",
              "      <td>7115</td>\n",
              "    </tr>\n",
              "    <tr>\n",
              "      <th>2</th>\n",
              "      <td>21212</td>\n",
              "      <td>1.250</td>\n",
              "      <td>8616.250</td>\n",
              "      <td>6893</td>\n",
              "    </tr>\n",
              "    <tr>\n",
              "      <th>3</th>\n",
              "      <td>22197</td>\n",
              "      <td>1.240</td>\n",
              "      <td>7092.800</td>\n",
              "      <td>5720</td>\n",
              "    </tr>\n",
              "    <tr>\n",
              "      <th>4</th>\n",
              "      <td>84879</td>\n",
              "      <td>2.405</td>\n",
              "      <td>13270.790</td>\n",
              "      <td>5518</td>\n",
              "    </tr>\n",
              "    <tr>\n",
              "      <th>...</th>\n",
              "      <td>...</td>\n",
              "      <td>...</td>\n",
              "      <td>...</td>\n",
              "      <td>...</td>\n",
              "    </tr>\n",
              "    <tr>\n",
              "      <th>3151</th>\n",
              "      <td>22588</td>\n",
              "      <td>2.550</td>\n",
              "      <td>-267.750</td>\n",
              "      <td>-105</td>\n",
              "    </tr>\n",
              "    <tr>\n",
              "      <th>3152</th>\n",
              "      <td>84612B</td>\n",
              "      <td>0.000</td>\n",
              "      <td>0.000</td>\n",
              "      <td>-163</td>\n",
              "    </tr>\n",
              "    <tr>\n",
              "      <th>3153</th>\n",
              "      <td>84613C</td>\n",
              "      <td>2.325</td>\n",
              "      <td>-404.550</td>\n",
              "      <td>-174</td>\n",
              "    </tr>\n",
              "    <tr>\n",
              "      <th>3154</th>\n",
              "      <td>84613A</td>\n",
              "      <td>2.325</td>\n",
              "      <td>-530.100</td>\n",
              "      <td>-228</td>\n",
              "    </tr>\n",
              "    <tr>\n",
              "      <th>3155</th>\n",
              "      <td>22034</td>\n",
              "      <td>0.210</td>\n",
              "      <td>-48.510</td>\n",
              "      <td>-231</td>\n",
              "    </tr>\n",
              "  </tbody>\n",
              "</table>\n",
              "<p>3156 rows × 4 columns</p>\n",
              "</div>"
            ],
            "text/plain": [
              "     item_id  price_per_id        sum  quantity\n",
              "0     85099B         1.950  14568.450      7471\n",
              "1     85123A         3.095  22020.925      7115\n",
              "2      21212         1.250   8616.250      6893\n",
              "3      22197         1.240   7092.800      5720\n",
              "4      84879         2.405  13270.790      5518\n",
              "...      ...           ...        ...       ...\n",
              "3151   22588         2.550   -267.750      -105\n",
              "3152  84612B         0.000      0.000      -163\n",
              "3153  84613C         2.325   -404.550      -174\n",
              "3154  84613A         2.325   -530.100      -228\n",
              "3155   22034         0.210    -48.510      -231\n",
              "\n",
              "[3156 rows x 4 columns]"
            ]
          },
          "metadata": {
            "tags": []
          },
          "execution_count": 51
        }
      ]
    },
    {
      "cell_type": "code",
      "metadata": {
        "id": "GX-tMDOtygrD",
        "colab_type": "code",
        "colab": {
          "base_uri": "https://localhost:8080/",
          "height": 70
        },
        "outputId": "da7628fc-aa04-4607-c4e7-54b8e5f3fd8b"
      },
      "source": [
        "df_new_filtered.query('item_id == \"85099B\"')['shop_id'].unique()"
      ],
      "execution_count": 52,
      "outputs": [
        {
          "output_type": "execute_result",
          "data": {
            "text/plain": [
              "array(['Shop 0', 'Shop 8', 'Shop 26', 'Shop 1', 'Shop 6', 'Shop 2',\n",
              "       'Shop 20', 'Shop 10', 'Shop 3', 'Shop 12', 'Shop 4', 'Shop 7'],\n",
              "      dtype=object)"
            ]
          },
          "metadata": {
            "tags": []
          },
          "execution_count": 52
        }
      ]
    },
    {
      "cell_type": "markdown",
      "metadata": {
        "id": "64aWx2q1x7UK",
        "colab_type": "text"
      },
      "source": [
        "Вывод: добавить ассортимент популярных товаров и самых продаваемых"
      ]
    },
    {
      "cell_type": "markdown",
      "metadata": {
        "id": "f_7qcQ3hzlDt",
        "colab_type": "text"
      },
      "source": [
        "## Статистический анализ"
      ]
    },
    {
      "cell_type": "markdown",
      "metadata": {
        "id": "WjCRhUaez3Y9",
        "colab_type": "text"
      },
      "source": [
        "Нулевая гипотеза: выручка от покупателей программы лояльности равна выручке остальных покупателей. Альтернативная гипотеза: выручки не равны"
      ]
    },
    {
      "cell_type": "markdown",
      "metadata": {
        "id": "4HPyZ4y5AokW",
        "colab_type": "text"
      },
      "source": [
        "Гипотезу проверяем на отфильтрованных данных и убираем магазин shop 0 по той же причине аномальных покупок. "
      ]
    },
    {
      "cell_type": "code",
      "metadata": {
        "id": "2pXG6x8t6H6L",
        "colab_type": "code",
        "colab": {
          "base_uri": "https://localhost:8080/",
          "height": 52
        },
        "outputId": "9f11be14-2f05-42a9-c27d-24eb1f8881bf"
      },
      "source": [
        "loyalty_0 = df_new_filtered[~df_new_filtered['shop_id'].isin(['Shop 0'])].query('loyalty_program == 0')['sum']\n",
        "loyalty_1 = df_new_filtered[~df_new_filtered['shop_id'].isin(['Shop 0'])].query('loyalty_program == 1')['sum']\n",
        "\n",
        "alpha = 0.05   #уровень статистической значимости 5%\n",
        "\n",
        "proverka = st.ttest_ind(\n",
        "    loyalty_0,\n",
        "    loyalty_1)\n",
        "\n",
        "print('p-значение', proverka.pvalue)\n",
        "\n",
        "if (proverka.pvalue < alpha):\n",
        "    print('Отвергаем нулевую гипотезу. Средние выручки не равны')\n",
        "else:\n",
        "    print(\"Не получилось отвергнуть нулевую гипотезу\")"
      ],
      "execution_count": 53,
      "outputs": [
        {
          "output_type": "stream",
          "text": [
            "p-значение 0.0006997434724082115\n",
            "Отвергаем нулевую гипотезу. Средние выручки не равны\n"
          ],
          "name": "stdout"
        }
      ]
    },
    {
      "cell_type": "markdown",
      "metadata": {
        "id": "It3-7xzOdANq",
        "colab_type": "text"
      },
      "source": [
        "Программа лояльность не влияет на бизнеc-показатели, а именно выручку торговых точек"
      ]
    },
    {
      "cell_type": "markdown",
      "metadata": {
        "id": "gn5w--7Okw1T",
        "colab_type": "text"
      },
      "source": [
        "#Выводы"
      ]
    },
    {
      "cell_type": "markdown",
      "metadata": {
        "id": "VaHIqGv3wAcs",
        "colab_type": "text"
      },
      "source": [
        "Выручка зависит от ассортимента и от среднего чека.\n",
        "\n",
        "\n",
        "\n",
        "\n",
        "\n",
        "Shop 19 - большое количество товаров в чеке, но средняя цена товара низкая. \n",
        "Рекомендация: расширить ассортимент более дорогими позициями.\n",
        "Рекомендация для 4,1 и 6 : повысить среднее количество товаров в чеке.\n",
        "Рекомендация для магазина 8: повысить количество покупателей (проходимость). \n",
        "Рекомендация для 24, 25,19, 14 увеличить ассортимент товарами \n",
        "- 22423\n",
        "- 85123А\n",
        "- 79321\n",
        "- 22469\n",
        "- 85099В\n",
        "- 21212\n",
        "- 22197\n",
        "- 84879\n",
        "\n",
        "\n",
        "\n",
        "\n",
        "\n",
        "\n",
        "\n",
        "\n",
        "\n",
        "\n",
        "\n",
        "\n",
        "Программа лояльности не влияет на выручку торговых точек"
      ]
    }
  ]
}